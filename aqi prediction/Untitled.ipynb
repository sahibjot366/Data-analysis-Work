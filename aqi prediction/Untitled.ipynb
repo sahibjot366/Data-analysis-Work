{
 "cells": [
  {
   "cell_type": "code",
   "execution_count": 1,
   "id": "f277bfd2",
   "metadata": {},
   "outputs": [],
   "source": [
    "import numpy as np\n",
    "import pandas as pd"
   ]
  },
  {
   "cell_type": "code",
   "execution_count": 2,
   "id": "afd3e3f8",
   "metadata": {},
   "outputs": [],
   "source": [
    "dataset=pd.read_csv('city_day.csv')"
   ]
  },
  {
   "cell_type": "code",
   "execution_count": 3,
   "id": "241852a0",
   "metadata": {},
   "outputs": [
    {
     "data": {
      "text/html": [
       "<div>\n",
       "<style scoped>\n",
       "    .dataframe tbody tr th:only-of-type {\n",
       "        vertical-align: middle;\n",
       "    }\n",
       "\n",
       "    .dataframe tbody tr th {\n",
       "        vertical-align: top;\n",
       "    }\n",
       "\n",
       "    .dataframe thead th {\n",
       "        text-align: right;\n",
       "    }\n",
       "</style>\n",
       "<table border=\"1\" class=\"dataframe\">\n",
       "  <thead>\n",
       "    <tr style=\"text-align: right;\">\n",
       "      <th></th>\n",
       "      <th>City</th>\n",
       "      <th>Date</th>\n",
       "      <th>PM2.5</th>\n",
       "      <th>PM10</th>\n",
       "      <th>NO</th>\n",
       "      <th>NO2</th>\n",
       "      <th>NOx</th>\n",
       "      <th>NH3</th>\n",
       "      <th>CO</th>\n",
       "      <th>SO2</th>\n",
       "      <th>O3</th>\n",
       "      <th>Benzene</th>\n",
       "      <th>Toluene</th>\n",
       "      <th>Xylene</th>\n",
       "      <th>AQI</th>\n",
       "      <th>AQI_Bucket</th>\n",
       "    </tr>\n",
       "  </thead>\n",
       "  <tbody>\n",
       "    <tr>\n",
       "      <th>0</th>\n",
       "      <td>Ahmedabad</td>\n",
       "      <td>2015-01-01</td>\n",
       "      <td>NaN</td>\n",
       "      <td>NaN</td>\n",
       "      <td>0.92</td>\n",
       "      <td>18.22</td>\n",
       "      <td>17.15</td>\n",
       "      <td>NaN</td>\n",
       "      <td>0.92</td>\n",
       "      <td>27.64</td>\n",
       "      <td>133.36</td>\n",
       "      <td>0.00</td>\n",
       "      <td>0.02</td>\n",
       "      <td>0.00</td>\n",
       "      <td>NaN</td>\n",
       "      <td>NaN</td>\n",
       "    </tr>\n",
       "    <tr>\n",
       "      <th>1</th>\n",
       "      <td>Ahmedabad</td>\n",
       "      <td>2015-01-02</td>\n",
       "      <td>NaN</td>\n",
       "      <td>NaN</td>\n",
       "      <td>0.97</td>\n",
       "      <td>15.69</td>\n",
       "      <td>16.46</td>\n",
       "      <td>NaN</td>\n",
       "      <td>0.97</td>\n",
       "      <td>24.55</td>\n",
       "      <td>34.06</td>\n",
       "      <td>3.68</td>\n",
       "      <td>5.50</td>\n",
       "      <td>3.77</td>\n",
       "      <td>NaN</td>\n",
       "      <td>NaN</td>\n",
       "    </tr>\n",
       "    <tr>\n",
       "      <th>2</th>\n",
       "      <td>Ahmedabad</td>\n",
       "      <td>2015-01-03</td>\n",
       "      <td>NaN</td>\n",
       "      <td>NaN</td>\n",
       "      <td>17.40</td>\n",
       "      <td>19.30</td>\n",
       "      <td>29.70</td>\n",
       "      <td>NaN</td>\n",
       "      <td>17.40</td>\n",
       "      <td>29.07</td>\n",
       "      <td>30.70</td>\n",
       "      <td>6.80</td>\n",
       "      <td>16.40</td>\n",
       "      <td>2.25</td>\n",
       "      <td>NaN</td>\n",
       "      <td>NaN</td>\n",
       "    </tr>\n",
       "    <tr>\n",
       "      <th>3</th>\n",
       "      <td>Ahmedabad</td>\n",
       "      <td>2015-01-04</td>\n",
       "      <td>NaN</td>\n",
       "      <td>NaN</td>\n",
       "      <td>1.70</td>\n",
       "      <td>18.48</td>\n",
       "      <td>17.97</td>\n",
       "      <td>NaN</td>\n",
       "      <td>1.70</td>\n",
       "      <td>18.59</td>\n",
       "      <td>36.08</td>\n",
       "      <td>4.43</td>\n",
       "      <td>10.14</td>\n",
       "      <td>1.00</td>\n",
       "      <td>NaN</td>\n",
       "      <td>NaN</td>\n",
       "    </tr>\n",
       "    <tr>\n",
       "      <th>4</th>\n",
       "      <td>Ahmedabad</td>\n",
       "      <td>2015-01-05</td>\n",
       "      <td>NaN</td>\n",
       "      <td>NaN</td>\n",
       "      <td>22.10</td>\n",
       "      <td>21.42</td>\n",
       "      <td>37.76</td>\n",
       "      <td>NaN</td>\n",
       "      <td>22.10</td>\n",
       "      <td>39.33</td>\n",
       "      <td>39.31</td>\n",
       "      <td>7.01</td>\n",
       "      <td>18.89</td>\n",
       "      <td>2.78</td>\n",
       "      <td>NaN</td>\n",
       "      <td>NaN</td>\n",
       "    </tr>\n",
       "  </tbody>\n",
       "</table>\n",
       "</div>"
      ],
      "text/plain": [
       "        City        Date  PM2.5  PM10     NO    NO2    NOx  NH3     CO    SO2  \\\n",
       "0  Ahmedabad  2015-01-01    NaN   NaN   0.92  18.22  17.15  NaN   0.92  27.64   \n",
       "1  Ahmedabad  2015-01-02    NaN   NaN   0.97  15.69  16.46  NaN   0.97  24.55   \n",
       "2  Ahmedabad  2015-01-03    NaN   NaN  17.40  19.30  29.70  NaN  17.40  29.07   \n",
       "3  Ahmedabad  2015-01-04    NaN   NaN   1.70  18.48  17.97  NaN   1.70  18.59   \n",
       "4  Ahmedabad  2015-01-05    NaN   NaN  22.10  21.42  37.76  NaN  22.10  39.33   \n",
       "\n",
       "       O3  Benzene  Toluene  Xylene  AQI AQI_Bucket  \n",
       "0  133.36     0.00     0.02    0.00  NaN        NaN  \n",
       "1   34.06     3.68     5.50    3.77  NaN        NaN  \n",
       "2   30.70     6.80    16.40    2.25  NaN        NaN  \n",
       "3   36.08     4.43    10.14    1.00  NaN        NaN  \n",
       "4   39.31     7.01    18.89    2.78  NaN        NaN  "
      ]
     },
     "execution_count": 3,
     "metadata": {},
     "output_type": "execute_result"
    }
   ],
   "source": [
    "dataset.head()"
   ]
  },
  {
   "cell_type": "code",
   "execution_count": 4,
   "id": "2b27fca2",
   "metadata": {},
   "outputs": [
    {
     "data": {
      "text/html": [
       "<div>\n",
       "<style scoped>\n",
       "    .dataframe tbody tr th:only-of-type {\n",
       "        vertical-align: middle;\n",
       "    }\n",
       "\n",
       "    .dataframe tbody tr th {\n",
       "        vertical-align: top;\n",
       "    }\n",
       "\n",
       "    .dataframe thead th {\n",
       "        text-align: right;\n",
       "    }\n",
       "</style>\n",
       "<table border=\"1\" class=\"dataframe\">\n",
       "  <thead>\n",
       "    <tr style=\"text-align: right;\">\n",
       "      <th></th>\n",
       "      <th>PM2.5</th>\n",
       "      <th>PM10</th>\n",
       "      <th>NO</th>\n",
       "      <th>NO2</th>\n",
       "      <th>NOx</th>\n",
       "      <th>NH3</th>\n",
       "      <th>CO</th>\n",
       "      <th>SO2</th>\n",
       "      <th>O3</th>\n",
       "      <th>Benzene</th>\n",
       "      <th>Toluene</th>\n",
       "      <th>Xylene</th>\n",
       "      <th>AQI</th>\n",
       "    </tr>\n",
       "  </thead>\n",
       "  <tbody>\n",
       "    <tr>\n",
       "      <th>count</th>\n",
       "      <td>24933.000000</td>\n",
       "      <td>18391.000000</td>\n",
       "      <td>25949.000000</td>\n",
       "      <td>25946.000000</td>\n",
       "      <td>25346.000000</td>\n",
       "      <td>19203.000000</td>\n",
       "      <td>27472.000000</td>\n",
       "      <td>25677.000000</td>\n",
       "      <td>25509.000000</td>\n",
       "      <td>23908.000000</td>\n",
       "      <td>21490.000000</td>\n",
       "      <td>11422.000000</td>\n",
       "      <td>24850.000000</td>\n",
       "    </tr>\n",
       "    <tr>\n",
       "      <th>mean</th>\n",
       "      <td>67.450578</td>\n",
       "      <td>118.127103</td>\n",
       "      <td>17.574730</td>\n",
       "      <td>28.560659</td>\n",
       "      <td>32.309123</td>\n",
       "      <td>23.483476</td>\n",
       "      <td>2.248598</td>\n",
       "      <td>14.531977</td>\n",
       "      <td>34.491430</td>\n",
       "      <td>3.280840</td>\n",
       "      <td>8.700972</td>\n",
       "      <td>3.070128</td>\n",
       "      <td>166.463581</td>\n",
       "    </tr>\n",
       "    <tr>\n",
       "      <th>std</th>\n",
       "      <td>64.661449</td>\n",
       "      <td>90.605110</td>\n",
       "      <td>22.785846</td>\n",
       "      <td>24.474746</td>\n",
       "      <td>31.646011</td>\n",
       "      <td>25.684275</td>\n",
       "      <td>6.962884</td>\n",
       "      <td>18.133775</td>\n",
       "      <td>21.694928</td>\n",
       "      <td>15.811136</td>\n",
       "      <td>19.969164</td>\n",
       "      <td>6.323247</td>\n",
       "      <td>140.696585</td>\n",
       "    </tr>\n",
       "    <tr>\n",
       "      <th>min</th>\n",
       "      <td>0.040000</td>\n",
       "      <td>0.010000</td>\n",
       "      <td>0.020000</td>\n",
       "      <td>0.010000</td>\n",
       "      <td>0.000000</td>\n",
       "      <td>0.010000</td>\n",
       "      <td>0.000000</td>\n",
       "      <td>0.010000</td>\n",
       "      <td>0.010000</td>\n",
       "      <td>0.000000</td>\n",
       "      <td>0.000000</td>\n",
       "      <td>0.000000</td>\n",
       "      <td>13.000000</td>\n",
       "    </tr>\n",
       "    <tr>\n",
       "      <th>25%</th>\n",
       "      <td>28.820000</td>\n",
       "      <td>56.255000</td>\n",
       "      <td>5.630000</td>\n",
       "      <td>11.750000</td>\n",
       "      <td>12.820000</td>\n",
       "      <td>8.580000</td>\n",
       "      <td>0.510000</td>\n",
       "      <td>5.670000</td>\n",
       "      <td>18.860000</td>\n",
       "      <td>0.120000</td>\n",
       "      <td>0.600000</td>\n",
       "      <td>0.140000</td>\n",
       "      <td>81.000000</td>\n",
       "    </tr>\n",
       "    <tr>\n",
       "      <th>50%</th>\n",
       "      <td>48.570000</td>\n",
       "      <td>95.680000</td>\n",
       "      <td>9.890000</td>\n",
       "      <td>21.690000</td>\n",
       "      <td>23.520000</td>\n",
       "      <td>15.850000</td>\n",
       "      <td>0.890000</td>\n",
       "      <td>9.160000</td>\n",
       "      <td>30.840000</td>\n",
       "      <td>1.070000</td>\n",
       "      <td>2.970000</td>\n",
       "      <td>0.980000</td>\n",
       "      <td>118.000000</td>\n",
       "    </tr>\n",
       "    <tr>\n",
       "      <th>75%</th>\n",
       "      <td>80.590000</td>\n",
       "      <td>149.745000</td>\n",
       "      <td>19.950000</td>\n",
       "      <td>37.620000</td>\n",
       "      <td>40.127500</td>\n",
       "      <td>30.020000</td>\n",
       "      <td>1.450000</td>\n",
       "      <td>15.220000</td>\n",
       "      <td>45.570000</td>\n",
       "      <td>3.080000</td>\n",
       "      <td>9.150000</td>\n",
       "      <td>3.350000</td>\n",
       "      <td>208.000000</td>\n",
       "    </tr>\n",
       "    <tr>\n",
       "      <th>max</th>\n",
       "      <td>949.990000</td>\n",
       "      <td>1000.000000</td>\n",
       "      <td>390.680000</td>\n",
       "      <td>362.210000</td>\n",
       "      <td>467.630000</td>\n",
       "      <td>352.890000</td>\n",
       "      <td>175.810000</td>\n",
       "      <td>193.860000</td>\n",
       "      <td>257.730000</td>\n",
       "      <td>455.030000</td>\n",
       "      <td>454.850000</td>\n",
       "      <td>170.370000</td>\n",
       "      <td>2049.000000</td>\n",
       "    </tr>\n",
       "  </tbody>\n",
       "</table>\n",
       "</div>"
      ],
      "text/plain": [
       "              PM2.5          PM10            NO           NO2           NOx  \\\n",
       "count  24933.000000  18391.000000  25949.000000  25946.000000  25346.000000   \n",
       "mean      67.450578    118.127103     17.574730     28.560659     32.309123   \n",
       "std       64.661449     90.605110     22.785846     24.474746     31.646011   \n",
       "min        0.040000      0.010000      0.020000      0.010000      0.000000   \n",
       "25%       28.820000     56.255000      5.630000     11.750000     12.820000   \n",
       "50%       48.570000     95.680000      9.890000     21.690000     23.520000   \n",
       "75%       80.590000    149.745000     19.950000     37.620000     40.127500   \n",
       "max      949.990000   1000.000000    390.680000    362.210000    467.630000   \n",
       "\n",
       "                NH3            CO           SO2            O3       Benzene  \\\n",
       "count  19203.000000  27472.000000  25677.000000  25509.000000  23908.000000   \n",
       "mean      23.483476      2.248598     14.531977     34.491430      3.280840   \n",
       "std       25.684275      6.962884     18.133775     21.694928     15.811136   \n",
       "min        0.010000      0.000000      0.010000      0.010000      0.000000   \n",
       "25%        8.580000      0.510000      5.670000     18.860000      0.120000   \n",
       "50%       15.850000      0.890000      9.160000     30.840000      1.070000   \n",
       "75%       30.020000      1.450000     15.220000     45.570000      3.080000   \n",
       "max      352.890000    175.810000    193.860000    257.730000    455.030000   \n",
       "\n",
       "            Toluene        Xylene           AQI  \n",
       "count  21490.000000  11422.000000  24850.000000  \n",
       "mean       8.700972      3.070128    166.463581  \n",
       "std       19.969164      6.323247    140.696585  \n",
       "min        0.000000      0.000000     13.000000  \n",
       "25%        0.600000      0.140000     81.000000  \n",
       "50%        2.970000      0.980000    118.000000  \n",
       "75%        9.150000      3.350000    208.000000  \n",
       "max      454.850000    170.370000   2049.000000  "
      ]
     },
     "execution_count": 4,
     "metadata": {},
     "output_type": "execute_result"
    }
   ],
   "source": [
    "dataset.describe()"
   ]
  },
  {
   "cell_type": "code",
   "execution_count": 5,
   "id": "5cb84c7d",
   "metadata": {},
   "outputs": [],
   "source": [
    "dataset.set_index('City',inplace=True)"
   ]
  },
  {
   "cell_type": "code",
   "execution_count": 6,
   "id": "9d5dbcae",
   "metadata": {},
   "outputs": [
    {
     "data": {
      "text/plain": [
       "str"
      ]
     },
     "execution_count": 6,
     "metadata": {},
     "output_type": "execute_result"
    }
   ],
   "source": [
    "type(dataset.iloc[0,0])"
   ]
  },
  {
   "cell_type": "code",
   "execution_count": 7,
   "id": "b9c9fe69",
   "metadata": {},
   "outputs": [],
   "source": [
    "from datetime import datetime"
   ]
  },
  {
   "cell_type": "code",
   "execution_count": 8,
   "id": "af4b7b1e",
   "metadata": {},
   "outputs": [],
   "source": [
    "dataset['Date']=dataset['Date'].apply(lambda x:datetime.strptime(x,'%Y-%m-%d'))"
   ]
  },
  {
   "cell_type": "code",
   "execution_count": 9,
   "id": "bf7c92a8",
   "metadata": {},
   "outputs": [
    {
     "data": {
      "text/html": [
       "<div>\n",
       "<style scoped>\n",
       "    .dataframe tbody tr th:only-of-type {\n",
       "        vertical-align: middle;\n",
       "    }\n",
       "\n",
       "    .dataframe tbody tr th {\n",
       "        vertical-align: top;\n",
       "    }\n",
       "\n",
       "    .dataframe thead th {\n",
       "        text-align: right;\n",
       "    }\n",
       "</style>\n",
       "<table border=\"1\" class=\"dataframe\">\n",
       "  <thead>\n",
       "    <tr style=\"text-align: right;\">\n",
       "      <th></th>\n",
       "      <th>Date</th>\n",
       "      <th>PM2.5</th>\n",
       "      <th>PM10</th>\n",
       "      <th>NO</th>\n",
       "      <th>NO2</th>\n",
       "      <th>NOx</th>\n",
       "      <th>NH3</th>\n",
       "      <th>CO</th>\n",
       "      <th>SO2</th>\n",
       "      <th>O3</th>\n",
       "      <th>Benzene</th>\n",
       "      <th>Toluene</th>\n",
       "      <th>Xylene</th>\n",
       "      <th>AQI</th>\n",
       "      <th>AQI_Bucket</th>\n",
       "    </tr>\n",
       "    <tr>\n",
       "      <th>City</th>\n",
       "      <th></th>\n",
       "      <th></th>\n",
       "      <th></th>\n",
       "      <th></th>\n",
       "      <th></th>\n",
       "      <th></th>\n",
       "      <th></th>\n",
       "      <th></th>\n",
       "      <th></th>\n",
       "      <th></th>\n",
       "      <th></th>\n",
       "      <th></th>\n",
       "      <th></th>\n",
       "      <th></th>\n",
       "      <th></th>\n",
       "    </tr>\n",
       "  </thead>\n",
       "  <tbody>\n",
       "    <tr>\n",
       "      <th>Ahmedabad</th>\n",
       "      <td>2015-01-01</td>\n",
       "      <td>NaN</td>\n",
       "      <td>NaN</td>\n",
       "      <td>0.92</td>\n",
       "      <td>18.22</td>\n",
       "      <td>17.15</td>\n",
       "      <td>NaN</td>\n",
       "      <td>0.92</td>\n",
       "      <td>27.64</td>\n",
       "      <td>133.36</td>\n",
       "      <td>0.00</td>\n",
       "      <td>0.02</td>\n",
       "      <td>0.00</td>\n",
       "      <td>NaN</td>\n",
       "      <td>NaN</td>\n",
       "    </tr>\n",
       "    <tr>\n",
       "      <th>Ahmedabad</th>\n",
       "      <td>2015-01-02</td>\n",
       "      <td>NaN</td>\n",
       "      <td>NaN</td>\n",
       "      <td>0.97</td>\n",
       "      <td>15.69</td>\n",
       "      <td>16.46</td>\n",
       "      <td>NaN</td>\n",
       "      <td>0.97</td>\n",
       "      <td>24.55</td>\n",
       "      <td>34.06</td>\n",
       "      <td>3.68</td>\n",
       "      <td>5.50</td>\n",
       "      <td>3.77</td>\n",
       "      <td>NaN</td>\n",
       "      <td>NaN</td>\n",
       "    </tr>\n",
       "    <tr>\n",
       "      <th>Ahmedabad</th>\n",
       "      <td>2015-01-03</td>\n",
       "      <td>NaN</td>\n",
       "      <td>NaN</td>\n",
       "      <td>17.40</td>\n",
       "      <td>19.30</td>\n",
       "      <td>29.70</td>\n",
       "      <td>NaN</td>\n",
       "      <td>17.40</td>\n",
       "      <td>29.07</td>\n",
       "      <td>30.70</td>\n",
       "      <td>6.80</td>\n",
       "      <td>16.40</td>\n",
       "      <td>2.25</td>\n",
       "      <td>NaN</td>\n",
       "      <td>NaN</td>\n",
       "    </tr>\n",
       "    <tr>\n",
       "      <th>Ahmedabad</th>\n",
       "      <td>2015-01-04</td>\n",
       "      <td>NaN</td>\n",
       "      <td>NaN</td>\n",
       "      <td>1.70</td>\n",
       "      <td>18.48</td>\n",
       "      <td>17.97</td>\n",
       "      <td>NaN</td>\n",
       "      <td>1.70</td>\n",
       "      <td>18.59</td>\n",
       "      <td>36.08</td>\n",
       "      <td>4.43</td>\n",
       "      <td>10.14</td>\n",
       "      <td>1.00</td>\n",
       "      <td>NaN</td>\n",
       "      <td>NaN</td>\n",
       "    </tr>\n",
       "    <tr>\n",
       "      <th>Ahmedabad</th>\n",
       "      <td>2015-01-05</td>\n",
       "      <td>NaN</td>\n",
       "      <td>NaN</td>\n",
       "      <td>22.10</td>\n",
       "      <td>21.42</td>\n",
       "      <td>37.76</td>\n",
       "      <td>NaN</td>\n",
       "      <td>22.10</td>\n",
       "      <td>39.33</td>\n",
       "      <td>39.31</td>\n",
       "      <td>7.01</td>\n",
       "      <td>18.89</td>\n",
       "      <td>2.78</td>\n",
       "      <td>NaN</td>\n",
       "      <td>NaN</td>\n",
       "    </tr>\n",
       "  </tbody>\n",
       "</table>\n",
       "</div>"
      ],
      "text/plain": [
       "                Date  PM2.5  PM10     NO    NO2    NOx  NH3     CO    SO2  \\\n",
       "City                                                                        \n",
       "Ahmedabad 2015-01-01    NaN   NaN   0.92  18.22  17.15  NaN   0.92  27.64   \n",
       "Ahmedabad 2015-01-02    NaN   NaN   0.97  15.69  16.46  NaN   0.97  24.55   \n",
       "Ahmedabad 2015-01-03    NaN   NaN  17.40  19.30  29.70  NaN  17.40  29.07   \n",
       "Ahmedabad 2015-01-04    NaN   NaN   1.70  18.48  17.97  NaN   1.70  18.59   \n",
       "Ahmedabad 2015-01-05    NaN   NaN  22.10  21.42  37.76  NaN  22.10  39.33   \n",
       "\n",
       "               O3  Benzene  Toluene  Xylene  AQI AQI_Bucket  \n",
       "City                                                         \n",
       "Ahmedabad  133.36     0.00     0.02    0.00  NaN        NaN  \n",
       "Ahmedabad   34.06     3.68     5.50    3.77  NaN        NaN  \n",
       "Ahmedabad   30.70     6.80    16.40    2.25  NaN        NaN  \n",
       "Ahmedabad   36.08     4.43    10.14    1.00  NaN        NaN  \n",
       "Ahmedabad   39.31     7.01    18.89    2.78  NaN        NaN  "
      ]
     },
     "execution_count": 9,
     "metadata": {},
     "output_type": "execute_result"
    }
   ],
   "source": [
    "dataset.head()"
   ]
  },
  {
   "cell_type": "code",
   "execution_count": 10,
   "id": "9b4c4f1a",
   "metadata": {},
   "outputs": [
    {
     "name": "stdout",
     "output_type": "stream",
     "text": [
      "<class 'pandas.core.frame.DataFrame'>\n",
      "Index: 29531 entries, Ahmedabad to Visakhapatnam\n",
      "Data columns (total 15 columns):\n",
      " #   Column      Non-Null Count  Dtype         \n",
      "---  ------      --------------  -----         \n",
      " 0   Date        29531 non-null  datetime64[ns]\n",
      " 1   PM2.5       24933 non-null  float64       \n",
      " 2   PM10        18391 non-null  float64       \n",
      " 3   NO          25949 non-null  float64       \n",
      " 4   NO2         25946 non-null  float64       \n",
      " 5   NOx         25346 non-null  float64       \n",
      " 6   NH3         19203 non-null  float64       \n",
      " 7   CO          27472 non-null  float64       \n",
      " 8   SO2         25677 non-null  float64       \n",
      " 9   O3          25509 non-null  float64       \n",
      " 10  Benzene     23908 non-null  float64       \n",
      " 11  Toluene     21490 non-null  float64       \n",
      " 12  Xylene      11422 non-null  float64       \n",
      " 13  AQI         24850 non-null  float64       \n",
      " 14  AQI_Bucket  24850 non-null  object        \n",
      "dtypes: datetime64[ns](1), float64(13), object(1)\n",
      "memory usage: 3.6+ MB\n"
     ]
    }
   ],
   "source": [
    "dataset.info()"
   ]
  },
  {
   "cell_type": "code",
   "execution_count": 11,
   "id": "6a13c17b",
   "metadata": {},
   "outputs": [
    {
     "data": {
      "text/html": [
       "<div>\n",
       "<style scoped>\n",
       "    .dataframe tbody tr th:only-of-type {\n",
       "        vertical-align: middle;\n",
       "    }\n",
       "\n",
       "    .dataframe tbody tr th {\n",
       "        vertical-align: top;\n",
       "    }\n",
       "\n",
       "    .dataframe thead th {\n",
       "        text-align: right;\n",
       "    }\n",
       "</style>\n",
       "<table border=\"1\" class=\"dataframe\">\n",
       "  <thead>\n",
       "    <tr style=\"text-align: right;\">\n",
       "      <th></th>\n",
       "      <th>PM2.5</th>\n",
       "      <th>PM10</th>\n",
       "      <th>NO</th>\n",
       "      <th>NO2</th>\n",
       "      <th>NOx</th>\n",
       "      <th>NH3</th>\n",
       "      <th>CO</th>\n",
       "      <th>SO2</th>\n",
       "      <th>O3</th>\n",
       "      <th>Benzene</th>\n",
       "      <th>Toluene</th>\n",
       "      <th>Xylene</th>\n",
       "      <th>AQI</th>\n",
       "    </tr>\n",
       "  </thead>\n",
       "  <tbody>\n",
       "    <tr>\n",
       "      <th>PM2.5</th>\n",
       "      <td>1.000000</td>\n",
       "      <td>0.846498</td>\n",
       "      <td>0.433491</td>\n",
       "      <td>0.350709</td>\n",
       "      <td>0.436792</td>\n",
       "      <td>0.275086</td>\n",
       "      <td>0.089912</td>\n",
       "      <td>0.132325</td>\n",
       "      <td>0.161238</td>\n",
       "      <td>0.023911</td>\n",
       "      <td>0.117080</td>\n",
       "      <td>0.114579</td>\n",
       "      <td>0.659181</td>\n",
       "    </tr>\n",
       "    <tr>\n",
       "      <th>PM10</th>\n",
       "      <td>0.846498</td>\n",
       "      <td>1.000000</td>\n",
       "      <td>0.502349</td>\n",
       "      <td>0.464380</td>\n",
       "      <td>0.527768</td>\n",
       "      <td>0.376816</td>\n",
       "      <td>0.112588</td>\n",
       "      <td>0.256974</td>\n",
       "      <td>0.244919</td>\n",
       "      <td>0.022265</td>\n",
       "      <td>0.169335</td>\n",
       "      <td>0.081700</td>\n",
       "      <td>0.803313</td>\n",
       "    </tr>\n",
       "    <tr>\n",
       "      <th>NO</th>\n",
       "      <td>0.433491</td>\n",
       "      <td>0.502349</td>\n",
       "      <td>1.000000</td>\n",
       "      <td>0.478070</td>\n",
       "      <td>0.794890</td>\n",
       "      <td>0.185621</td>\n",
       "      <td>0.212607</td>\n",
       "      <td>0.170322</td>\n",
       "      <td>0.014580</td>\n",
       "      <td>0.035771</td>\n",
       "      <td>0.150857</td>\n",
       "      <td>0.094237</td>\n",
       "      <td>0.452191</td>\n",
       "    </tr>\n",
       "    <tr>\n",
       "      <th>NO2</th>\n",
       "      <td>0.350709</td>\n",
       "      <td>0.464380</td>\n",
       "      <td>0.478070</td>\n",
       "      <td>1.000000</td>\n",
       "      <td>0.627627</td>\n",
       "      <td>0.234938</td>\n",
       "      <td>0.356521</td>\n",
       "      <td>0.392233</td>\n",
       "      <td>0.293349</td>\n",
       "      <td>0.025260</td>\n",
       "      <td>0.273926</td>\n",
       "      <td>0.171701</td>\n",
       "      <td>0.537071</td>\n",
       "    </tr>\n",
       "    <tr>\n",
       "      <th>NOx</th>\n",
       "      <td>0.436792</td>\n",
       "      <td>0.527768</td>\n",
       "      <td>0.794890</td>\n",
       "      <td>0.627627</td>\n",
       "      <td>1.000000</td>\n",
       "      <td>0.166224</td>\n",
       "      <td>0.226992</td>\n",
       "      <td>0.238397</td>\n",
       "      <td>0.093170</td>\n",
       "      <td>0.039121</td>\n",
       "      <td>0.189386</td>\n",
       "      <td>0.087398</td>\n",
       "      <td>0.486450</td>\n",
       "    </tr>\n",
       "    <tr>\n",
       "      <th>NH3</th>\n",
       "      <td>0.275086</td>\n",
       "      <td>0.376816</td>\n",
       "      <td>0.185621</td>\n",
       "      <td>0.234938</td>\n",
       "      <td>0.166224</td>\n",
       "      <td>1.000000</td>\n",
       "      <td>0.104891</td>\n",
       "      <td>-0.038998</td>\n",
       "      <td>0.094972</td>\n",
       "      <td>-0.015650</td>\n",
       "      <td>0.013227</td>\n",
       "      <td>-0.019813</td>\n",
       "      <td>0.252019</td>\n",
       "    </tr>\n",
       "    <tr>\n",
       "      <th>CO</th>\n",
       "      <td>0.089912</td>\n",
       "      <td>0.112588</td>\n",
       "      <td>0.212607</td>\n",
       "      <td>0.356521</td>\n",
       "      <td>0.226992</td>\n",
       "      <td>0.104891</td>\n",
       "      <td>1.000000</td>\n",
       "      <td>0.489697</td>\n",
       "      <td>0.041736</td>\n",
       "      <td>0.061861</td>\n",
       "      <td>0.277904</td>\n",
       "      <td>0.154889</td>\n",
       "      <td>0.683346</td>\n",
       "    </tr>\n",
       "    <tr>\n",
       "      <th>SO2</th>\n",
       "      <td>0.132325</td>\n",
       "      <td>0.256974</td>\n",
       "      <td>0.170322</td>\n",
       "      <td>0.392233</td>\n",
       "      <td>0.238397</td>\n",
       "      <td>-0.038998</td>\n",
       "      <td>0.489697</td>\n",
       "      <td>1.000000</td>\n",
       "      <td>0.162142</td>\n",
       "      <td>0.036110</td>\n",
       "      <td>0.296139</td>\n",
       "      <td>0.251195</td>\n",
       "      <td>0.490586</td>\n",
       "    </tr>\n",
       "    <tr>\n",
       "      <th>O3</th>\n",
       "      <td>0.161238</td>\n",
       "      <td>0.244919</td>\n",
       "      <td>0.014580</td>\n",
       "      <td>0.293349</td>\n",
       "      <td>0.093170</td>\n",
       "      <td>0.094972</td>\n",
       "      <td>0.041736</td>\n",
       "      <td>0.162142</td>\n",
       "      <td>1.000000</td>\n",
       "      <td>0.020255</td>\n",
       "      <td>0.130209</td>\n",
       "      <td>0.111410</td>\n",
       "      <td>0.198991</td>\n",
       "    </tr>\n",
       "    <tr>\n",
       "      <th>Benzene</th>\n",
       "      <td>0.023911</td>\n",
       "      <td>0.022265</td>\n",
       "      <td>0.035771</td>\n",
       "      <td>0.025260</td>\n",
       "      <td>0.039121</td>\n",
       "      <td>-0.015650</td>\n",
       "      <td>0.061861</td>\n",
       "      <td>0.036110</td>\n",
       "      <td>0.020255</td>\n",
       "      <td>1.000000</td>\n",
       "      <td>0.739286</td>\n",
       "      <td>0.415427</td>\n",
       "      <td>0.044407</td>\n",
       "    </tr>\n",
       "    <tr>\n",
       "      <th>Toluene</th>\n",
       "      <td>0.117080</td>\n",
       "      <td>0.169335</td>\n",
       "      <td>0.150857</td>\n",
       "      <td>0.273926</td>\n",
       "      <td>0.189386</td>\n",
       "      <td>0.013227</td>\n",
       "      <td>0.277904</td>\n",
       "      <td>0.296139</td>\n",
       "      <td>0.130209</td>\n",
       "      <td>0.739286</td>\n",
       "      <td>1.000000</td>\n",
       "      <td>0.421432</td>\n",
       "      <td>0.279992</td>\n",
       "    </tr>\n",
       "    <tr>\n",
       "      <th>Xylene</th>\n",
       "      <td>0.114579</td>\n",
       "      <td>0.081700</td>\n",
       "      <td>0.094237</td>\n",
       "      <td>0.171701</td>\n",
       "      <td>0.087398</td>\n",
       "      <td>-0.019813</td>\n",
       "      <td>0.154889</td>\n",
       "      <td>0.251195</td>\n",
       "      <td>0.111410</td>\n",
       "      <td>0.415427</td>\n",
       "      <td>0.421432</td>\n",
       "      <td>1.000000</td>\n",
       "      <td>0.165532</td>\n",
       "    </tr>\n",
       "    <tr>\n",
       "      <th>AQI</th>\n",
       "      <td>0.659181</td>\n",
       "      <td>0.803313</td>\n",
       "      <td>0.452191</td>\n",
       "      <td>0.537071</td>\n",
       "      <td>0.486450</td>\n",
       "      <td>0.252019</td>\n",
       "      <td>0.683346</td>\n",
       "      <td>0.490586</td>\n",
       "      <td>0.198991</td>\n",
       "      <td>0.044407</td>\n",
       "      <td>0.279992</td>\n",
       "      <td>0.165532</td>\n",
       "      <td>1.000000</td>\n",
       "    </tr>\n",
       "  </tbody>\n",
       "</table>\n",
       "</div>"
      ],
      "text/plain": [
       "            PM2.5      PM10        NO       NO2       NOx       NH3        CO  \\\n",
       "PM2.5    1.000000  0.846498  0.433491  0.350709  0.436792  0.275086  0.089912   \n",
       "PM10     0.846498  1.000000  0.502349  0.464380  0.527768  0.376816  0.112588   \n",
       "NO       0.433491  0.502349  1.000000  0.478070  0.794890  0.185621  0.212607   \n",
       "NO2      0.350709  0.464380  0.478070  1.000000  0.627627  0.234938  0.356521   \n",
       "NOx      0.436792  0.527768  0.794890  0.627627  1.000000  0.166224  0.226992   \n",
       "NH3      0.275086  0.376816  0.185621  0.234938  0.166224  1.000000  0.104891   \n",
       "CO       0.089912  0.112588  0.212607  0.356521  0.226992  0.104891  1.000000   \n",
       "SO2      0.132325  0.256974  0.170322  0.392233  0.238397 -0.038998  0.489697   \n",
       "O3       0.161238  0.244919  0.014580  0.293349  0.093170  0.094972  0.041736   \n",
       "Benzene  0.023911  0.022265  0.035771  0.025260  0.039121 -0.015650  0.061861   \n",
       "Toluene  0.117080  0.169335  0.150857  0.273926  0.189386  0.013227  0.277904   \n",
       "Xylene   0.114579  0.081700  0.094237  0.171701  0.087398 -0.019813  0.154889   \n",
       "AQI      0.659181  0.803313  0.452191  0.537071  0.486450  0.252019  0.683346   \n",
       "\n",
       "              SO2        O3   Benzene   Toluene    Xylene       AQI  \n",
       "PM2.5    0.132325  0.161238  0.023911  0.117080  0.114579  0.659181  \n",
       "PM10     0.256974  0.244919  0.022265  0.169335  0.081700  0.803313  \n",
       "NO       0.170322  0.014580  0.035771  0.150857  0.094237  0.452191  \n",
       "NO2      0.392233  0.293349  0.025260  0.273926  0.171701  0.537071  \n",
       "NOx      0.238397  0.093170  0.039121  0.189386  0.087398  0.486450  \n",
       "NH3     -0.038998  0.094972 -0.015650  0.013227 -0.019813  0.252019  \n",
       "CO       0.489697  0.041736  0.061861  0.277904  0.154889  0.683346  \n",
       "SO2      1.000000  0.162142  0.036110  0.296139  0.251195  0.490586  \n",
       "O3       0.162142  1.000000  0.020255  0.130209  0.111410  0.198991  \n",
       "Benzene  0.036110  0.020255  1.000000  0.739286  0.415427  0.044407  \n",
       "Toluene  0.296139  0.130209  0.739286  1.000000  0.421432  0.279992  \n",
       "Xylene   0.251195  0.111410  0.415427  0.421432  1.000000  0.165532  \n",
       "AQI      0.490586  0.198991  0.044407  0.279992  0.165532  1.000000  "
      ]
     },
     "execution_count": 11,
     "metadata": {},
     "output_type": "execute_result"
    }
   ],
   "source": [
    "dataset.corr()"
   ]
  },
  {
   "cell_type": "code",
   "execution_count": 12,
   "id": "7c77e9b4",
   "metadata": {},
   "outputs": [],
   "source": [
    "city_values=set(dataset.index.tolist())"
   ]
  },
  {
   "cell_type": "code",
   "execution_count": 13,
   "id": "2873a381",
   "metadata": {},
   "outputs": [
    {
     "data": {
      "text/plain": [
       "{'Ahmedabad',\n",
       " 'Aizawl',\n",
       " 'Amaravati',\n",
       " 'Amritsar',\n",
       " 'Bengaluru',\n",
       " 'Bhopal',\n",
       " 'Brajrajnagar',\n",
       " 'Chandigarh',\n",
       " 'Chennai',\n",
       " 'Coimbatore',\n",
       " 'Delhi',\n",
       " 'Ernakulam',\n",
       " 'Gurugram',\n",
       " 'Guwahati',\n",
       " 'Hyderabad',\n",
       " 'Jaipur',\n",
       " 'Jorapokhar',\n",
       " 'Kochi',\n",
       " 'Kolkata',\n",
       " 'Lucknow',\n",
       " 'Mumbai',\n",
       " 'Patna',\n",
       " 'Shillong',\n",
       " 'Talcher',\n",
       " 'Thiruvananthapuram',\n",
       " 'Visakhapatnam'}"
      ]
     },
     "execution_count": 13,
     "metadata": {},
     "output_type": "execute_result"
    }
   ],
   "source": [
    "city_values"
   ]
  },
  {
   "cell_type": "code",
   "execution_count": 14,
   "id": "379bfc30",
   "metadata": {},
   "outputs": [
    {
     "data": {
      "text/plain": [
       "Date              0\n",
       "PM2.5          4598\n",
       "PM10          11140\n",
       "NO             3582\n",
       "NO2            3585\n",
       "NOx            4185\n",
       "NH3           10328\n",
       "CO             2059\n",
       "SO2            3854\n",
       "O3             4022\n",
       "Benzene        5623\n",
       "Toluene        8041\n",
       "Xylene        18109\n",
       "AQI            4681\n",
       "AQI_Bucket     4681\n",
       "dtype: int64"
      ]
     },
     "execution_count": 14,
     "metadata": {},
     "output_type": "execute_result"
    }
   ],
   "source": [
    "dataset.isnull().sum()"
   ]
  },
  {
   "cell_type": "code",
   "execution_count": 15,
   "id": "9deafd89",
   "metadata": {},
   "outputs": [
    {
     "data": {
      "text/plain": [
       "(29531, 15)"
      ]
     },
     "execution_count": 15,
     "metadata": {},
     "output_type": "execute_result"
    }
   ],
   "source": [
    "dataset.shape"
   ]
  },
  {
   "cell_type": "code",
   "execution_count": 16,
   "id": "fbe67caf",
   "metadata": {},
   "outputs": [],
   "source": [
    "dataset.drop(['PM10','NH3','Xylene'],axis=1,inplace=True)"
   ]
  },
  {
   "cell_type": "code",
   "execution_count": 17,
   "id": "dfe43c00",
   "metadata": {},
   "outputs": [
    {
     "data": {
      "text/html": [
       "<div>\n",
       "<style scoped>\n",
       "    .dataframe tbody tr th:only-of-type {\n",
       "        vertical-align: middle;\n",
       "    }\n",
       "\n",
       "    .dataframe tbody tr th {\n",
       "        vertical-align: top;\n",
       "    }\n",
       "\n",
       "    .dataframe thead th {\n",
       "        text-align: right;\n",
       "    }\n",
       "</style>\n",
       "<table border=\"1\" class=\"dataframe\">\n",
       "  <thead>\n",
       "    <tr style=\"text-align: right;\">\n",
       "      <th></th>\n",
       "      <th>Date</th>\n",
       "      <th>PM2.5</th>\n",
       "      <th>NO</th>\n",
       "      <th>NO2</th>\n",
       "      <th>NOx</th>\n",
       "      <th>CO</th>\n",
       "      <th>SO2</th>\n",
       "      <th>O3</th>\n",
       "      <th>Benzene</th>\n",
       "      <th>Toluene</th>\n",
       "      <th>AQI</th>\n",
       "      <th>AQI_Bucket</th>\n",
       "    </tr>\n",
       "    <tr>\n",
       "      <th>City</th>\n",
       "      <th></th>\n",
       "      <th></th>\n",
       "      <th></th>\n",
       "      <th></th>\n",
       "      <th></th>\n",
       "      <th></th>\n",
       "      <th></th>\n",
       "      <th></th>\n",
       "      <th></th>\n",
       "      <th></th>\n",
       "      <th></th>\n",
       "      <th></th>\n",
       "    </tr>\n",
       "  </thead>\n",
       "  <tbody>\n",
       "    <tr>\n",
       "      <th>Ahmedabad</th>\n",
       "      <td>2015-01-01</td>\n",
       "      <td>NaN</td>\n",
       "      <td>0.92</td>\n",
       "      <td>18.22</td>\n",
       "      <td>17.15</td>\n",
       "      <td>0.92</td>\n",
       "      <td>27.64</td>\n",
       "      <td>133.36</td>\n",
       "      <td>0.00</td>\n",
       "      <td>0.02</td>\n",
       "      <td>NaN</td>\n",
       "      <td>NaN</td>\n",
       "    </tr>\n",
       "    <tr>\n",
       "      <th>Ahmedabad</th>\n",
       "      <td>2015-01-02</td>\n",
       "      <td>NaN</td>\n",
       "      <td>0.97</td>\n",
       "      <td>15.69</td>\n",
       "      <td>16.46</td>\n",
       "      <td>0.97</td>\n",
       "      <td>24.55</td>\n",
       "      <td>34.06</td>\n",
       "      <td>3.68</td>\n",
       "      <td>5.50</td>\n",
       "      <td>NaN</td>\n",
       "      <td>NaN</td>\n",
       "    </tr>\n",
       "    <tr>\n",
       "      <th>Ahmedabad</th>\n",
       "      <td>2015-01-03</td>\n",
       "      <td>NaN</td>\n",
       "      <td>17.40</td>\n",
       "      <td>19.30</td>\n",
       "      <td>29.70</td>\n",
       "      <td>17.40</td>\n",
       "      <td>29.07</td>\n",
       "      <td>30.70</td>\n",
       "      <td>6.80</td>\n",
       "      <td>16.40</td>\n",
       "      <td>NaN</td>\n",
       "      <td>NaN</td>\n",
       "    </tr>\n",
       "    <tr>\n",
       "      <th>Ahmedabad</th>\n",
       "      <td>2015-01-04</td>\n",
       "      <td>NaN</td>\n",
       "      <td>1.70</td>\n",
       "      <td>18.48</td>\n",
       "      <td>17.97</td>\n",
       "      <td>1.70</td>\n",
       "      <td>18.59</td>\n",
       "      <td>36.08</td>\n",
       "      <td>4.43</td>\n",
       "      <td>10.14</td>\n",
       "      <td>NaN</td>\n",
       "      <td>NaN</td>\n",
       "    </tr>\n",
       "    <tr>\n",
       "      <th>Ahmedabad</th>\n",
       "      <td>2015-01-05</td>\n",
       "      <td>NaN</td>\n",
       "      <td>22.10</td>\n",
       "      <td>21.42</td>\n",
       "      <td>37.76</td>\n",
       "      <td>22.10</td>\n",
       "      <td>39.33</td>\n",
       "      <td>39.31</td>\n",
       "      <td>7.01</td>\n",
       "      <td>18.89</td>\n",
       "      <td>NaN</td>\n",
       "      <td>NaN</td>\n",
       "    </tr>\n",
       "  </tbody>\n",
       "</table>\n",
       "</div>"
      ],
      "text/plain": [
       "                Date  PM2.5     NO    NO2    NOx     CO    SO2      O3  \\\n",
       "City                                                                     \n",
       "Ahmedabad 2015-01-01    NaN   0.92  18.22  17.15   0.92  27.64  133.36   \n",
       "Ahmedabad 2015-01-02    NaN   0.97  15.69  16.46   0.97  24.55   34.06   \n",
       "Ahmedabad 2015-01-03    NaN  17.40  19.30  29.70  17.40  29.07   30.70   \n",
       "Ahmedabad 2015-01-04    NaN   1.70  18.48  17.97   1.70  18.59   36.08   \n",
       "Ahmedabad 2015-01-05    NaN  22.10  21.42  37.76  22.10  39.33   39.31   \n",
       "\n",
       "           Benzene  Toluene  AQI AQI_Bucket  \n",
       "City                                         \n",
       "Ahmedabad     0.00     0.02  NaN        NaN  \n",
       "Ahmedabad     3.68     5.50  NaN        NaN  \n",
       "Ahmedabad     6.80    16.40  NaN        NaN  \n",
       "Ahmedabad     4.43    10.14  NaN        NaN  \n",
       "Ahmedabad     7.01    18.89  NaN        NaN  "
      ]
     },
     "execution_count": 17,
     "metadata": {},
     "output_type": "execute_result"
    }
   ],
   "source": [
    "dataset.head()"
   ]
  },
  {
   "cell_type": "code",
   "execution_count": 18,
   "id": "cd719e49",
   "metadata": {},
   "outputs": [
    {
     "data": {
      "text/plain": [
       "Date             0\n",
       "PM2.5         4598\n",
       "NO            3582\n",
       "NO2           3585\n",
       "NOx           4185\n",
       "CO            2059\n",
       "SO2           3854\n",
       "O3            4022\n",
       "Benzene       5623\n",
       "Toluene       8041\n",
       "AQI           4681\n",
       "AQI_Bucket    4681\n",
       "dtype: int64"
      ]
     },
     "execution_count": 18,
     "metadata": {},
     "output_type": "execute_result"
    }
   ],
   "source": [
    "dataset.isnull().sum()"
   ]
  },
  {
   "cell_type": "code",
   "execution_count": 19,
   "id": "29c0b582",
   "metadata": {},
   "outputs": [],
   "source": [
    "dataset.dropna(subset=['AQI'],axis=0,inplace=True)"
   ]
  },
  {
   "cell_type": "code",
   "execution_count": 20,
   "id": "df169f6a",
   "metadata": {},
   "outputs": [
    {
     "data": {
      "text/plain": [
       "0"
      ]
     },
     "execution_count": 20,
     "metadata": {},
     "output_type": "execute_result"
    }
   ],
   "source": [
    "dataset['AQI'].isnull().sum()"
   ]
  },
  {
   "cell_type": "code",
   "execution_count": 21,
   "id": "9b49f9f3",
   "metadata": {},
   "outputs": [
    {
     "data": {
      "text/plain": [
       "(24850, 12)"
      ]
     },
     "execution_count": 21,
     "metadata": {},
     "output_type": "execute_result"
    }
   ],
   "source": [
    "dataset.shape"
   ]
  },
  {
   "cell_type": "code",
   "execution_count": 22,
   "id": "165d28b6",
   "metadata": {},
   "outputs": [
    {
     "data": {
      "text/plain": [
       "['PM2.5', 'NO', 'NO2', 'NOx', 'CO', 'SO2', 'O3', 'Benzene', 'Toluene']"
      ]
     },
     "execution_count": 22,
     "metadata": {},
     "output_type": "execute_result"
    }
   ],
   "source": [
    "column_list=dataset.columns.tolist()\n",
    "column_list.remove('Date')\n",
    "column_list.remove('AQI')\n",
    "column_list.remove('AQI_Bucket')\n",
    "column_list"
   ]
  },
  {
   "cell_type": "code",
   "execution_count": 23,
   "id": "f3ef50bb",
   "metadata": {},
   "outputs": [
    {
     "name": "stdout",
     "output_type": "stream",
     "text": [
      "Lucknow\n",
      "\n",
      "PM2.5 109.79358540454785 NO 15.688360655737704 NO2 33.88951348492861 NOx 23.63824937027708 CO 1.750100795755968 SO2 8.023705073995771 O3 37.11036546610169 Benzene 2.9248758963044685 Toluene 5.035908835115363 \n",
      "\n",
      "Aizawl\n",
      "\n",
      "PM2.5 16.988545454545456 NO 9.408378378378378 NO2 0.36702702702702705 NOx 12.58792792792793 CO 0.28144144144144145 SO2 7.348288288288288 O3 3.717647058823529 Benzene 9.996770833333333 Toluene 10.437916666666668 \n",
      "\n",
      "Delhi\n",
      "\n",
      "PM2.5 117.54976976976975 NO 39.02354354354354 NO2 50.76396896896897 NOx 58.80907953976989 CO 1.9852126063031514 SO2 15.912087506589353 O3 51.335891835673436 Benzene 3.5597748874437216 Toluene 17.26617808904452 \n",
      "\n",
      "Brajrajnagar\n",
      "\n",
      "PM2.5 63.89619596541787 NO 14.838145800316955 NO2 17.001318681318683 NOx 23.919970930232562 CO 1.8379154929577466 SO2 10.148675595238094 O3 16.014345864661657 Benzene 5.207658045977012 Toluene nan \n",
      "\n",
      "Kolkata\n",
      "\n",
      "PM2.5 64.65334217506631 NO 27.713779840848805 NO2 40.802745358090185 NOx 65.38458885941645 CO 0.8500397877984084 SO2 8.229304812834224 O3 30.634169986719787 Benzene 11.497997347480108 Toluene 16.398912466843502 \n",
      "\n",
      "Ernakulam\n",
      "\n",
      "PM2.5 24.88065789473684 NO 22.385131578947366 NO2 3.6571287128712866 NOx 23.36046052631579 CO 1.6234210526315789 SO2 3.1721710526315787 O3 nan Benzene 0.6138157894736841 Toluene 1.2832894736842106 \n",
      "\n",
      "Chandigarh\n",
      "\n",
      "PM2.5 41.31188153310105 NO 10.52 NO2 11.718508474576272 NOx 15.116406779661018 CO 0.6304013377926422 SO2 10.134615384615385 O3 19.93397993311037 Benzene 5.073377926421405 Toluene 1.3962876254180603 \n",
      "\n",
      "Gurugram\n",
      "\n",
      "PM2.5 115.60919198895029 NO 18.08384285714286 NO2 23.867142857142856 NOx 31.379151459854018 CO 1.3047008547008547 SO2 9.522241887905606 O3 35.09323943661972 Benzene 1.7520889261744965 Toluene 5.677279767666989 \n",
      "\n",
      "Bhopal\n",
      "\n",
      "PM2.5 50.20723021582734 NO 7.029460431654677 NO2 31.373561151079137 NOx 22.446115107913666 CO 0.8807194244604316 SO2 13.060431654676258 O3 59.82420863309353 Benzene nan Toluene nan \n",
      "\n",
      "Patna\n",
      "\n",
      "PM2.5 124.76429945054946 NO 32.71265151515151 NO2 39.11458304617505 NOx 46.23397382920111 CO 1.5852743484224965 SO2 23.86834482758621 O3 40.30637943519189 Benzene 1.8512404712404713 Toluene 11.856202356202356 \n",
      "\n",
      "Bengaluru\n",
      "\n",
      "PM2.5 35.87162803234501 NO 9.361409114719748 NO2 28.30875327396543 NOx 19.741274252753016 CO 1.6692157894736843 SO2 5.255631220534311 O3 32.8580538418396 Benzene 1.7596603098927295 Toluene 4.288333333333333 \n",
      "\n",
      "Visakhapatnam\n",
      "\n",
      "PM2.5 47.61515907136715 NO 12.90191416309013 NO2 37.19461139896373 NOx 29.4431475128645 CO 0.8543347639484978 SO2 12.700214776632304 O3 37.8635934819897 Benzene 4.4996226415094345 Toluene 9.628627787307032 \n",
      "\n",
      "Jaipur\n",
      "\n",
      "PM2.5 54.68684065934066 NO 14.664264705882353 NO2 32.47196330275229 NOx 39.636533466533464 CO 0.8074748398902104 SO2 11.095897435897436 O3 46.98886134067952 Benzene 1.5882282003710577 Toluene 6.765153203342618 \n",
      "\n",
      "Chennai\n",
      "\n",
      "PM2.5 50.15436634717785 NO 8.76733759318424 NO2 16.548647497337594 NOx 17.84877529286475 CO 1.01897285790314 SO2 7.7774760383386585 O3 32.35639335476956 Benzene 1.677845238095238 Toluene 2.502409144196952 \n",
      "\n",
      "Hyderabad\n",
      "\n",
      "PM2.5 47.092885333333335 NO 7.565877333333333 NO2 28.504208 NOx 18.95508528784648 CO 0.6041267305644303 SO2 9.341603622802344 O3 33.66491209376665 Benzene 1.212403409090909 Toluene 7.979914772727272 \n",
      "\n",
      "Mumbai\n",
      "\n",
      "PM2.5 35.1758549222798 NO 29.80900537634409 NO2 25.461048387096774 NOx 54.71449804432856 CO 1.2212564766839378 SO2 14.63777202072539 O3 32.65019430051813 Benzene 2.5366235446313063 Toluene nan \n",
      "\n",
      "Talcher\n",
      "\n",
      "PM2.5 61.9878947368421 NO 30.678989113530328 NO2 13.367287581699346 NOx 32.10458702064897 CO 1.8113421828908556 SO2 29.06833333333333 O3 17.35480620155039 Benzene 0.07144039735099338 Toluene 0.0003921568627450981 \n",
      "\n",
      "Shillong\n",
      "\n",
      "PM2.5 24.72875 NO 0.9745999999999999 NO2 2.87855 NOx 1.1389756097560977 CO 0.2718048780487805 SO2 7.019121951219511 O3 28.751773399014777 Benzene 51.22551219512195 Toluene 51.32585365853658 \n",
      "\n",
      "Ahmedabad\n",
      "\n",
      "PM2.5 67.8723948948949 NO 22.432629992464204 NO2 60.345614167294656 NOx 47.87533783783784 CO 22.191213262999245 SO2 55.96935857805254 O3 39.22509207365893 Benzene 6.076925441967717 Toluene 31.567832436587242 \n",
      "\n",
      "Coimbatore\n",
      "\n",
      "PM2.5 29.441457725947522 NO 7.765170068027211 NO2 27.652537313432838 NOx 29.75830409356725 CO 0.9482798833819241 SO2 8.639125364431488 O3 28.66725947521866 Benzene 0.009271137026239067 Toluene 0.03827988338192421 \n",
      "\n",
      "Jorapokhar\n",
      "\n",
      "PM2.5 64.34811797752809 NO 11.114736842105263 NO2 9.302302631578947 NOx nan CO 0.7151802656546489 SO2 32.947358490566046 O3 32.872460106382974 Benzene nan Toluene nan \n",
      "\n",
      "Thiruvananthapuram\n",
      "\n",
      "PM2.5 28.23511516314779 NO 3.5231935176358435 NO2 9.483269780743566 NOx 8.457387988560534 CO 0.978560533841754 SO2 5.702049571020019 O3 35.250505243088654 Benzene nan Toluene nan \n",
      "\n",
      "Guwahati\n",
      "\n",
      "PM2.5 61.487773279352226 NO 19.984444444444442 NO2 13.54258585858586 NOx 44.170585858585866 CO 0.7344444444444443 SO2 14.572565656565656 O3 25.082383838383844 Benzene 3.702883435582822 Toluene nan \n",
      "\n",
      "Amritsar\n",
      "\n",
      "PM2.5 55.1022531160115 NO 18.83865491651206 NO2 18.481492403932084 NOx 35.662934537246045 CO 0.559584487534626 SO2 8.293212851405624 O3 22.230210124164277 Benzene 4.22658110882957 Toluene 3.070396659707724 \n",
      "\n",
      "Amaravati\n",
      "\n",
      "PM2.5 38.07671052631579 NO 4.3578809523809525 NO2 21.720035714285718 NOx 15.071488095238095 CO 0.613810709838107 SO2 14.121776710684273 O3 38.00928571428572 Benzene 0.5769512195121951 Toluene 1.9579756097560974 \n",
      "\n",
      "Kochi\n",
      "\n",
      "PM2.5 31.54050632911392 NO 71.9226282051282 NO2 14.46111842105263 NOx 68.0770253164557 CO 1.2941139240506332 SO2 17.729177215189875 O3 3.7616455696202533 Benzene nan Toluene 0.002088607594936709 \n",
      "\n"
     ]
    }
   ],
   "source": [
    "for i in city_values:\n",
    "    print(i+\"\\n\")\n",
    "    for j in column_list:\n",
    "        print(j,end=\" \")\n",
    "        print(dataset.loc[i,j].mean(),end=\" \")\n",
    "    print('\\n')"
   ]
  },
  {
   "cell_type": "code",
   "execution_count": 24,
   "id": "7e8659b8",
   "metadata": {},
   "outputs": [
    {
     "name": "stderr",
     "output_type": "stream",
     "text": [
      "c:\\users\\sahib\\lib\\site-packages\\pandas\\core\\generic.py:6383: SettingWithCopyWarning: \n",
      "A value is trying to be set on a copy of a slice from a DataFrame\n",
      "\n",
      "See the caveats in the documentation: https://pandas.pydata.org/pandas-docs/stable/user_guide/indexing.html#returning-a-view-versus-a-copy\n",
      "  return self._update_inplace(result)\n"
     ]
    }
   ],
   "source": [
    "for city in city_values:\n",
    "    for col in column_list:\n",
    "        dataset.loc[city,col].fillna(value=dataset.loc[city,col].mean(),inplace=True,axis=0)"
   ]
  },
  {
   "cell_type": "code",
   "execution_count": 25,
   "id": "fb019e93",
   "metadata": {},
   "outputs": [
    {
     "data": {
      "text/html": [
       "<div>\n",
       "<style scoped>\n",
       "    .dataframe tbody tr th:only-of-type {\n",
       "        vertical-align: middle;\n",
       "    }\n",
       "\n",
       "    .dataframe tbody tr th {\n",
       "        vertical-align: top;\n",
       "    }\n",
       "\n",
       "    .dataframe thead th {\n",
       "        text-align: right;\n",
       "    }\n",
       "</style>\n",
       "<table border=\"1\" class=\"dataframe\">\n",
       "  <thead>\n",
       "    <tr style=\"text-align: right;\">\n",
       "      <th></th>\n",
       "      <th>Date</th>\n",
       "      <th>PM2.5</th>\n",
       "      <th>NO</th>\n",
       "      <th>NO2</th>\n",
       "      <th>NOx</th>\n",
       "      <th>CO</th>\n",
       "      <th>SO2</th>\n",
       "      <th>O3</th>\n",
       "      <th>Benzene</th>\n",
       "      <th>Toluene</th>\n",
       "      <th>AQI</th>\n",
       "      <th>AQI_Bucket</th>\n",
       "    </tr>\n",
       "    <tr>\n",
       "      <th>City</th>\n",
       "      <th></th>\n",
       "      <th></th>\n",
       "      <th></th>\n",
       "      <th></th>\n",
       "      <th></th>\n",
       "      <th></th>\n",
       "      <th></th>\n",
       "      <th></th>\n",
       "      <th></th>\n",
       "      <th></th>\n",
       "      <th></th>\n",
       "      <th></th>\n",
       "    </tr>\n",
       "  </thead>\n",
       "  <tbody>\n",
       "    <tr>\n",
       "      <th>Ahmedabad</th>\n",
       "      <td>2015-01-29</td>\n",
       "      <td>83.13</td>\n",
       "      <td>6.93</td>\n",
       "      <td>28.71</td>\n",
       "      <td>33.72</td>\n",
       "      <td>6.93</td>\n",
       "      <td>49.52</td>\n",
       "      <td>59.76</td>\n",
       "      <td>0.02</td>\n",
       "      <td>0.00</td>\n",
       "      <td>209.0</td>\n",
       "      <td>Poor</td>\n",
       "    </tr>\n",
       "    <tr>\n",
       "      <th>Ahmedabad</th>\n",
       "      <td>2015-01-30</td>\n",
       "      <td>79.84</td>\n",
       "      <td>13.85</td>\n",
       "      <td>28.68</td>\n",
       "      <td>41.08</td>\n",
       "      <td>13.85</td>\n",
       "      <td>48.49</td>\n",
       "      <td>97.07</td>\n",
       "      <td>0.04</td>\n",
       "      <td>0.00</td>\n",
       "      <td>328.0</td>\n",
       "      <td>Very Poor</td>\n",
       "    </tr>\n",
       "    <tr>\n",
       "      <th>Ahmedabad</th>\n",
       "      <td>2015-01-31</td>\n",
       "      <td>94.52</td>\n",
       "      <td>24.39</td>\n",
       "      <td>32.66</td>\n",
       "      <td>52.61</td>\n",
       "      <td>24.39</td>\n",
       "      <td>67.39</td>\n",
       "      <td>111.33</td>\n",
       "      <td>0.24</td>\n",
       "      <td>0.01</td>\n",
       "      <td>514.0</td>\n",
       "      <td>Severe</td>\n",
       "    </tr>\n",
       "    <tr>\n",
       "      <th>Ahmedabad</th>\n",
       "      <td>2015-02-01</td>\n",
       "      <td>135.99</td>\n",
       "      <td>43.48</td>\n",
       "      <td>42.08</td>\n",
       "      <td>84.57</td>\n",
       "      <td>43.48</td>\n",
       "      <td>75.23</td>\n",
       "      <td>102.70</td>\n",
       "      <td>0.40</td>\n",
       "      <td>0.04</td>\n",
       "      <td>782.0</td>\n",
       "      <td>Severe</td>\n",
       "    </tr>\n",
       "    <tr>\n",
       "      <th>Ahmedabad</th>\n",
       "      <td>2015-02-02</td>\n",
       "      <td>178.33</td>\n",
       "      <td>54.56</td>\n",
       "      <td>35.31</td>\n",
       "      <td>72.80</td>\n",
       "      <td>54.56</td>\n",
       "      <td>55.04</td>\n",
       "      <td>107.38</td>\n",
       "      <td>0.46</td>\n",
       "      <td>0.06</td>\n",
       "      <td>914.0</td>\n",
       "      <td>Severe</td>\n",
       "    </tr>\n",
       "  </tbody>\n",
       "</table>\n",
       "</div>"
      ],
      "text/plain": [
       "                Date   PM2.5     NO    NO2    NOx     CO    SO2      O3  \\\n",
       "City                                                                      \n",
       "Ahmedabad 2015-01-29   83.13   6.93  28.71  33.72   6.93  49.52   59.76   \n",
       "Ahmedabad 2015-01-30   79.84  13.85  28.68  41.08  13.85  48.49   97.07   \n",
       "Ahmedabad 2015-01-31   94.52  24.39  32.66  52.61  24.39  67.39  111.33   \n",
       "Ahmedabad 2015-02-01  135.99  43.48  42.08  84.57  43.48  75.23  102.70   \n",
       "Ahmedabad 2015-02-02  178.33  54.56  35.31  72.80  54.56  55.04  107.38   \n",
       "\n",
       "           Benzene  Toluene    AQI AQI_Bucket  \n",
       "City                                           \n",
       "Ahmedabad     0.02     0.00  209.0       Poor  \n",
       "Ahmedabad     0.04     0.00  328.0  Very Poor  \n",
       "Ahmedabad     0.24     0.01  514.0     Severe  \n",
       "Ahmedabad     0.40     0.04  782.0     Severe  \n",
       "Ahmedabad     0.46     0.06  914.0     Severe  "
      ]
     },
     "execution_count": 25,
     "metadata": {},
     "output_type": "execute_result"
    }
   ],
   "source": [
    "dataset.head()"
   ]
  },
  {
   "cell_type": "code",
   "execution_count": 26,
   "id": "09a7d3b9",
   "metadata": {},
   "outputs": [
    {
     "data": {
      "text/plain": [
       "Date             0\n",
       "PM2.5            0\n",
       "NO               0\n",
       "NO2              0\n",
       "NOx            771\n",
       "CO               0\n",
       "SO2              0\n",
       "O3             153\n",
       "Benzene       2259\n",
       "Toluene       4084\n",
       "AQI              0\n",
       "AQI_Bucket       0\n",
       "dtype: int64"
      ]
     },
     "execution_count": 26,
     "metadata": {},
     "output_type": "execute_result"
    }
   ],
   "source": [
    "dataset.isnull().sum()"
   ]
  },
  {
   "cell_type": "code",
   "execution_count": 27,
   "id": "a879ceab",
   "metadata": {},
   "outputs": [
    {
     "data": {
      "text/plain": [
       "(24850, 12)"
      ]
     },
     "execution_count": 27,
     "metadata": {},
     "output_type": "execute_result"
    }
   ],
   "source": [
    "dataset.shape"
   ]
  },
  {
   "cell_type": "code",
   "execution_count": 28,
   "id": "c0eeefdd",
   "metadata": {},
   "outputs": [
    {
     "data": {
      "text/plain": [
       "Thiruvananthapuram    1052\n",
       "Mumbai                 775\n",
       "Jorapokhar             771\n",
       "Brajrajnagar           713\n",
       "Guwahati               495\n",
       "Bhopal                 278\n",
       "Name: City, dtype: int64"
      ]
     },
     "execution_count": 28,
     "metadata": {},
     "output_type": "execute_result"
    }
   ],
   "source": [
    "dataset.reset_index(inplace=True)\n",
    "dataset[dataset['Toluene'].isnull()]['City'].value_counts()"
   ]
  },
  {
   "cell_type": "code",
   "execution_count": 29,
   "id": "73be023f",
   "metadata": {},
   "outputs": [
    {
     "data": {
      "text/plain": [
       "Thiruvananthapuram    1052\n",
       "Jorapokhar             771\n",
       "Bhopal                 278\n",
       "Kochi                  158\n",
       "Name: City, dtype: int64"
      ]
     },
     "execution_count": 29,
     "metadata": {},
     "output_type": "execute_result"
    }
   ],
   "source": [
    "dataset[dataset['Benzene'].isnull()]['City'].value_counts()"
   ]
  },
  {
   "cell_type": "code",
   "execution_count": 30,
   "id": "c72bc2cc",
   "metadata": {},
   "outputs": [],
   "source": [
    "dataset.dropna(axis=0,inplace=True)"
   ]
  },
  {
   "cell_type": "code",
   "execution_count": 31,
   "id": "93542cca",
   "metadata": {},
   "outputs": [
    {
     "data": {
      "text/plain": [
       "City          0\n",
       "Date          0\n",
       "PM2.5         0\n",
       "NO            0\n",
       "NO2           0\n",
       "NOx           0\n",
       "CO            0\n",
       "SO2           0\n",
       "O3            0\n",
       "Benzene       0\n",
       "Toluene       0\n",
       "AQI           0\n",
       "AQI_Bucket    0\n",
       "dtype: int64"
      ]
     },
     "execution_count": 31,
     "metadata": {},
     "output_type": "execute_result"
    }
   ],
   "source": [
    "dataset.isnull().sum()"
   ]
  },
  {
   "cell_type": "code",
   "execution_count": 32,
   "id": "10f78a32",
   "metadata": {},
   "outputs": [
    {
     "data": {
      "text/plain": [
       "(20455, 13)"
      ]
     },
     "execution_count": 32,
     "metadata": {},
     "output_type": "execute_result"
    }
   ],
   "source": [
    "dataset.shape"
   ]
  },
  {
   "cell_type": "code",
   "execution_count": 33,
   "id": "e884167e",
   "metadata": {},
   "outputs": [
    {
     "data": {
      "text/html": [
       "<div>\n",
       "<style scoped>\n",
       "    .dataframe tbody tr th:only-of-type {\n",
       "        vertical-align: middle;\n",
       "    }\n",
       "\n",
       "    .dataframe tbody tr th {\n",
       "        vertical-align: top;\n",
       "    }\n",
       "\n",
       "    .dataframe thead th {\n",
       "        text-align: right;\n",
       "    }\n",
       "</style>\n",
       "<table border=\"1\" class=\"dataframe\">\n",
       "  <thead>\n",
       "    <tr style=\"text-align: right;\">\n",
       "      <th></th>\n",
       "      <th>City</th>\n",
       "      <th>Date</th>\n",
       "      <th>PM2.5</th>\n",
       "      <th>NO</th>\n",
       "      <th>NO2</th>\n",
       "      <th>NOx</th>\n",
       "      <th>CO</th>\n",
       "      <th>SO2</th>\n",
       "      <th>O3</th>\n",
       "      <th>Benzene</th>\n",
       "      <th>Toluene</th>\n",
       "      <th>AQI</th>\n",
       "      <th>AQI_Bucket</th>\n",
       "    </tr>\n",
       "  </thead>\n",
       "  <tbody>\n",
       "    <tr>\n",
       "      <th>0</th>\n",
       "      <td>Ahmedabad</td>\n",
       "      <td>2015-01-29</td>\n",
       "      <td>83.13</td>\n",
       "      <td>6.93</td>\n",
       "      <td>28.71</td>\n",
       "      <td>33.72</td>\n",
       "      <td>6.93</td>\n",
       "      <td>49.52</td>\n",
       "      <td>59.76</td>\n",
       "      <td>0.02</td>\n",
       "      <td>0.00</td>\n",
       "      <td>209.0</td>\n",
       "      <td>Poor</td>\n",
       "    </tr>\n",
       "    <tr>\n",
       "      <th>1</th>\n",
       "      <td>Ahmedabad</td>\n",
       "      <td>2015-01-30</td>\n",
       "      <td>79.84</td>\n",
       "      <td>13.85</td>\n",
       "      <td>28.68</td>\n",
       "      <td>41.08</td>\n",
       "      <td>13.85</td>\n",
       "      <td>48.49</td>\n",
       "      <td>97.07</td>\n",
       "      <td>0.04</td>\n",
       "      <td>0.00</td>\n",
       "      <td>328.0</td>\n",
       "      <td>Very Poor</td>\n",
       "    </tr>\n",
       "    <tr>\n",
       "      <th>2</th>\n",
       "      <td>Ahmedabad</td>\n",
       "      <td>2015-01-31</td>\n",
       "      <td>94.52</td>\n",
       "      <td>24.39</td>\n",
       "      <td>32.66</td>\n",
       "      <td>52.61</td>\n",
       "      <td>24.39</td>\n",
       "      <td>67.39</td>\n",
       "      <td>111.33</td>\n",
       "      <td>0.24</td>\n",
       "      <td>0.01</td>\n",
       "      <td>514.0</td>\n",
       "      <td>Severe</td>\n",
       "    </tr>\n",
       "    <tr>\n",
       "      <th>3</th>\n",
       "      <td>Ahmedabad</td>\n",
       "      <td>2015-02-01</td>\n",
       "      <td>135.99</td>\n",
       "      <td>43.48</td>\n",
       "      <td>42.08</td>\n",
       "      <td>84.57</td>\n",
       "      <td>43.48</td>\n",
       "      <td>75.23</td>\n",
       "      <td>102.70</td>\n",
       "      <td>0.40</td>\n",
       "      <td>0.04</td>\n",
       "      <td>782.0</td>\n",
       "      <td>Severe</td>\n",
       "    </tr>\n",
       "    <tr>\n",
       "      <th>4</th>\n",
       "      <td>Ahmedabad</td>\n",
       "      <td>2015-02-02</td>\n",
       "      <td>178.33</td>\n",
       "      <td>54.56</td>\n",
       "      <td>35.31</td>\n",
       "      <td>72.80</td>\n",
       "      <td>54.56</td>\n",
       "      <td>55.04</td>\n",
       "      <td>107.38</td>\n",
       "      <td>0.46</td>\n",
       "      <td>0.06</td>\n",
       "      <td>914.0</td>\n",
       "      <td>Severe</td>\n",
       "    </tr>\n",
       "  </tbody>\n",
       "</table>\n",
       "</div>"
      ],
      "text/plain": [
       "        City       Date   PM2.5     NO    NO2    NOx     CO    SO2      O3  \\\n",
       "0  Ahmedabad 2015-01-29   83.13   6.93  28.71  33.72   6.93  49.52   59.76   \n",
       "1  Ahmedabad 2015-01-30   79.84  13.85  28.68  41.08  13.85  48.49   97.07   \n",
       "2  Ahmedabad 2015-01-31   94.52  24.39  32.66  52.61  24.39  67.39  111.33   \n",
       "3  Ahmedabad 2015-02-01  135.99  43.48  42.08  84.57  43.48  75.23  102.70   \n",
       "4  Ahmedabad 2015-02-02  178.33  54.56  35.31  72.80  54.56  55.04  107.38   \n",
       "\n",
       "   Benzene  Toluene    AQI AQI_Bucket  \n",
       "0     0.02     0.00  209.0       Poor  \n",
       "1     0.04     0.00  328.0  Very Poor  \n",
       "2     0.24     0.01  514.0     Severe  \n",
       "3     0.40     0.04  782.0     Severe  \n",
       "4     0.46     0.06  914.0     Severe  "
      ]
     },
     "execution_count": 33,
     "metadata": {},
     "output_type": "execute_result"
    }
   ],
   "source": [
    "dataset.head()"
   ]
  },
  {
   "cell_type": "code",
   "execution_count": 34,
   "id": "720122aa",
   "metadata": {},
   "outputs": [
    {
     "data": {
      "text/plain": [
       "(8418, 13)"
      ]
     },
     "execution_count": 34,
     "metadata": {},
     "output_type": "execute_result"
    }
   ],
   "source": [
    "dataset[dataset['Date'].dt.year>=2019].shape"
   ]
  },
  {
   "cell_type": "code",
   "execution_count": 35,
   "id": "86715ab6",
   "metadata": {},
   "outputs": [
    {
     "data": {
      "text/plain": [
       "AQI_Bucket\n",
       "Good             13.0\n",
       "Moderate        101.0\n",
       "Poor            201.0\n",
       "Satisfactory     51.0\n",
       "Severe          401.0\n",
       "Very Poor       301.0\n",
       "Name: AQI, dtype: float64"
      ]
     },
     "execution_count": 35,
     "metadata": {},
     "output_type": "execute_result"
    }
   ],
   "source": [
    "dataset.groupby('AQI_Bucket')['AQI'].min()"
   ]
  },
  {
   "cell_type": "markdown",
   "id": "a55735ea",
   "metadata": {},
   "source": [
    "## Good 0-50 , satisfactory 51-100 , moderate 101-200, poor 201-300, very poor 301-400, severe >=401"
   ]
  },
  {
   "cell_type": "code",
   "execution_count": 36,
   "id": "18036b75",
   "metadata": {},
   "outputs": [],
   "source": [
    "dataset1=dataset.copy(deep=True)\n",
    "dataset.drop(labels=['City','AQI_Bucket'],axis=1,inplace=True)"
   ]
  },
  {
   "cell_type": "code",
   "execution_count": 37,
   "id": "8d5a2f30",
   "metadata": {},
   "outputs": [
    {
     "data": {
      "text/html": [
       "<div>\n",
       "<style scoped>\n",
       "    .dataframe tbody tr th:only-of-type {\n",
       "        vertical-align: middle;\n",
       "    }\n",
       "\n",
       "    .dataframe tbody tr th {\n",
       "        vertical-align: top;\n",
       "    }\n",
       "\n",
       "    .dataframe thead th {\n",
       "        text-align: right;\n",
       "    }\n",
       "</style>\n",
       "<table border=\"1\" class=\"dataframe\">\n",
       "  <thead>\n",
       "    <tr style=\"text-align: right;\">\n",
       "      <th></th>\n",
       "      <th>Date</th>\n",
       "      <th>PM2.5</th>\n",
       "      <th>NO</th>\n",
       "      <th>NO2</th>\n",
       "      <th>NOx</th>\n",
       "      <th>CO</th>\n",
       "      <th>SO2</th>\n",
       "      <th>O3</th>\n",
       "      <th>Benzene</th>\n",
       "      <th>Toluene</th>\n",
       "      <th>AQI</th>\n",
       "    </tr>\n",
       "  </thead>\n",
       "  <tbody>\n",
       "    <tr>\n",
       "      <th>0</th>\n",
       "      <td>2015-01-29</td>\n",
       "      <td>83.13</td>\n",
       "      <td>6.93</td>\n",
       "      <td>28.71</td>\n",
       "      <td>33.72</td>\n",
       "      <td>6.93</td>\n",
       "      <td>49.52</td>\n",
       "      <td>59.76</td>\n",
       "      <td>0.02</td>\n",
       "      <td>0.00</td>\n",
       "      <td>209.0</td>\n",
       "    </tr>\n",
       "    <tr>\n",
       "      <th>1</th>\n",
       "      <td>2015-01-30</td>\n",
       "      <td>79.84</td>\n",
       "      <td>13.85</td>\n",
       "      <td>28.68</td>\n",
       "      <td>41.08</td>\n",
       "      <td>13.85</td>\n",
       "      <td>48.49</td>\n",
       "      <td>97.07</td>\n",
       "      <td>0.04</td>\n",
       "      <td>0.00</td>\n",
       "      <td>328.0</td>\n",
       "    </tr>\n",
       "    <tr>\n",
       "      <th>2</th>\n",
       "      <td>2015-01-31</td>\n",
       "      <td>94.52</td>\n",
       "      <td>24.39</td>\n",
       "      <td>32.66</td>\n",
       "      <td>52.61</td>\n",
       "      <td>24.39</td>\n",
       "      <td>67.39</td>\n",
       "      <td>111.33</td>\n",
       "      <td>0.24</td>\n",
       "      <td>0.01</td>\n",
       "      <td>514.0</td>\n",
       "    </tr>\n",
       "    <tr>\n",
       "      <th>3</th>\n",
       "      <td>2015-02-01</td>\n",
       "      <td>135.99</td>\n",
       "      <td>43.48</td>\n",
       "      <td>42.08</td>\n",
       "      <td>84.57</td>\n",
       "      <td>43.48</td>\n",
       "      <td>75.23</td>\n",
       "      <td>102.70</td>\n",
       "      <td>0.40</td>\n",
       "      <td>0.04</td>\n",
       "      <td>782.0</td>\n",
       "    </tr>\n",
       "    <tr>\n",
       "      <th>4</th>\n",
       "      <td>2015-02-02</td>\n",
       "      <td>178.33</td>\n",
       "      <td>54.56</td>\n",
       "      <td>35.31</td>\n",
       "      <td>72.80</td>\n",
       "      <td>54.56</td>\n",
       "      <td>55.04</td>\n",
       "      <td>107.38</td>\n",
       "      <td>0.46</td>\n",
       "      <td>0.06</td>\n",
       "      <td>914.0</td>\n",
       "    </tr>\n",
       "  </tbody>\n",
       "</table>\n",
       "</div>"
      ],
      "text/plain": [
       "        Date   PM2.5     NO    NO2    NOx     CO    SO2      O3  Benzene  \\\n",
       "0 2015-01-29   83.13   6.93  28.71  33.72   6.93  49.52   59.76     0.02   \n",
       "1 2015-01-30   79.84  13.85  28.68  41.08  13.85  48.49   97.07     0.04   \n",
       "2 2015-01-31   94.52  24.39  32.66  52.61  24.39  67.39  111.33     0.24   \n",
       "3 2015-02-01  135.99  43.48  42.08  84.57  43.48  75.23  102.70     0.40   \n",
       "4 2015-02-02  178.33  54.56  35.31  72.80  54.56  55.04  107.38     0.46   \n",
       "\n",
       "   Toluene    AQI  \n",
       "0     0.00  209.0  \n",
       "1     0.00  328.0  \n",
       "2     0.01  514.0  \n",
       "3     0.04  782.0  \n",
       "4     0.06  914.0  "
      ]
     },
     "execution_count": 37,
     "metadata": {},
     "output_type": "execute_result"
    }
   ],
   "source": [
    "dataset.head()"
   ]
  },
  {
   "cell_type": "code",
   "execution_count": 38,
   "id": "ae58198f",
   "metadata": {},
   "outputs": [],
   "source": [
    "dataset.reset_index(inplace=True)"
   ]
  },
  {
   "cell_type": "code",
   "execution_count": 39,
   "id": "28d82cef",
   "metadata": {},
   "outputs": [],
   "source": [
    "dataset.drop(labels=['index'],axis=1,inplace=True)"
   ]
  },
  {
   "cell_type": "code",
   "execution_count": 40,
   "id": "bcb51ba4",
   "metadata": {},
   "outputs": [
    {
     "data": {
      "text/html": [
       "<div>\n",
       "<style scoped>\n",
       "    .dataframe tbody tr th:only-of-type {\n",
       "        vertical-align: middle;\n",
       "    }\n",
       "\n",
       "    .dataframe tbody tr th {\n",
       "        vertical-align: top;\n",
       "    }\n",
       "\n",
       "    .dataframe thead th {\n",
       "        text-align: right;\n",
       "    }\n",
       "</style>\n",
       "<table border=\"1\" class=\"dataframe\">\n",
       "  <thead>\n",
       "    <tr style=\"text-align: right;\">\n",
       "      <th></th>\n",
       "      <th>Date</th>\n",
       "      <th>PM2.5</th>\n",
       "      <th>NO</th>\n",
       "      <th>NO2</th>\n",
       "      <th>NOx</th>\n",
       "      <th>CO</th>\n",
       "      <th>SO2</th>\n",
       "      <th>O3</th>\n",
       "      <th>Benzene</th>\n",
       "      <th>Toluene</th>\n",
       "      <th>AQI</th>\n",
       "    </tr>\n",
       "  </thead>\n",
       "  <tbody>\n",
       "    <tr>\n",
       "      <th>0</th>\n",
       "      <td>2015-01-29</td>\n",
       "      <td>83.13</td>\n",
       "      <td>6.93</td>\n",
       "      <td>28.71</td>\n",
       "      <td>33.72</td>\n",
       "      <td>6.93</td>\n",
       "      <td>49.52</td>\n",
       "      <td>59.76</td>\n",
       "      <td>0.02</td>\n",
       "      <td>0.00</td>\n",
       "      <td>209.0</td>\n",
       "    </tr>\n",
       "    <tr>\n",
       "      <th>1</th>\n",
       "      <td>2015-01-30</td>\n",
       "      <td>79.84</td>\n",
       "      <td>13.85</td>\n",
       "      <td>28.68</td>\n",
       "      <td>41.08</td>\n",
       "      <td>13.85</td>\n",
       "      <td>48.49</td>\n",
       "      <td>97.07</td>\n",
       "      <td>0.04</td>\n",
       "      <td>0.00</td>\n",
       "      <td>328.0</td>\n",
       "    </tr>\n",
       "    <tr>\n",
       "      <th>2</th>\n",
       "      <td>2015-01-31</td>\n",
       "      <td>94.52</td>\n",
       "      <td>24.39</td>\n",
       "      <td>32.66</td>\n",
       "      <td>52.61</td>\n",
       "      <td>24.39</td>\n",
       "      <td>67.39</td>\n",
       "      <td>111.33</td>\n",
       "      <td>0.24</td>\n",
       "      <td>0.01</td>\n",
       "      <td>514.0</td>\n",
       "    </tr>\n",
       "    <tr>\n",
       "      <th>3</th>\n",
       "      <td>2015-02-01</td>\n",
       "      <td>135.99</td>\n",
       "      <td>43.48</td>\n",
       "      <td>42.08</td>\n",
       "      <td>84.57</td>\n",
       "      <td>43.48</td>\n",
       "      <td>75.23</td>\n",
       "      <td>102.70</td>\n",
       "      <td>0.40</td>\n",
       "      <td>0.04</td>\n",
       "      <td>782.0</td>\n",
       "    </tr>\n",
       "    <tr>\n",
       "      <th>4</th>\n",
       "      <td>2015-02-02</td>\n",
       "      <td>178.33</td>\n",
       "      <td>54.56</td>\n",
       "      <td>35.31</td>\n",
       "      <td>72.80</td>\n",
       "      <td>54.56</td>\n",
       "      <td>55.04</td>\n",
       "      <td>107.38</td>\n",
       "      <td>0.46</td>\n",
       "      <td>0.06</td>\n",
       "      <td>914.0</td>\n",
       "    </tr>\n",
       "  </tbody>\n",
       "</table>\n",
       "</div>"
      ],
      "text/plain": [
       "        Date   PM2.5     NO    NO2    NOx     CO    SO2      O3  Benzene  \\\n",
       "0 2015-01-29   83.13   6.93  28.71  33.72   6.93  49.52   59.76     0.02   \n",
       "1 2015-01-30   79.84  13.85  28.68  41.08  13.85  48.49   97.07     0.04   \n",
       "2 2015-01-31   94.52  24.39  32.66  52.61  24.39  67.39  111.33     0.24   \n",
       "3 2015-02-01  135.99  43.48  42.08  84.57  43.48  75.23  102.70     0.40   \n",
       "4 2015-02-02  178.33  54.56  35.31  72.80  54.56  55.04  107.38     0.46   \n",
       "\n",
       "   Toluene    AQI  \n",
       "0     0.00  209.0  \n",
       "1     0.00  328.0  \n",
       "2     0.01  514.0  \n",
       "3     0.04  782.0  \n",
       "4     0.06  914.0  "
      ]
     },
     "execution_count": 40,
     "metadata": {},
     "output_type": "execute_result"
    }
   ],
   "source": [
    "dataset.head()"
   ]
  },
  {
   "cell_type": "code",
   "execution_count": 41,
   "id": "c38d3e58",
   "metadata": {},
   "outputs": [],
   "source": [
    "X_train=dataset[dataset['Date'].dt.year<=2018]"
   ]
  },
  {
   "cell_type": "code",
   "execution_count": 42,
   "id": "5c5f7fe6",
   "metadata": {},
   "outputs": [
    {
     "name": "stderr",
     "output_type": "stream",
     "text": [
      "c:\\users\\sahib\\lib\\site-packages\\pandas\\core\\frame.py:4901: SettingWithCopyWarning: \n",
      "A value is trying to be set on a copy of a slice from a DataFrame\n",
      "\n",
      "See the caveats in the documentation: https://pandas.pydata.org/pandas-docs/stable/user_guide/indexing.html#returning-a-view-versus-a-copy\n",
      "  return super().drop(\n"
     ]
    }
   ],
   "source": [
    "X_test=dataset[dataset['Date'].dt.year>=2019]\n",
    "X_train.drop(labels=['Date','AQI'],axis=1,inplace=True)\n",
    "X_test.drop(labels=['Date','AQI'],axis=1,inplace=True)"
   ]
  },
  {
   "cell_type": "code",
   "execution_count": 43,
   "id": "dc7f6635",
   "metadata": {},
   "outputs": [],
   "source": [
    "#y_train=dataset['AQI'][dataset]"
   ]
  },
  {
   "cell_type": "code",
   "execution_count": 44,
   "id": "8c5cac32",
   "metadata": {},
   "outputs": [],
   "source": [
    "#X_train.tail()"
   ]
  },
  {
   "cell_type": "code",
   "execution_count": 45,
   "id": "756abb04",
   "metadata": {},
   "outputs": [
    {
     "data": {
      "text/html": [
       "<div>\n",
       "<style scoped>\n",
       "    .dataframe tbody tr th:only-of-type {\n",
       "        vertical-align: middle;\n",
       "    }\n",
       "\n",
       "    .dataframe tbody tr th {\n",
       "        vertical-align: top;\n",
       "    }\n",
       "\n",
       "    .dataframe thead th {\n",
       "        text-align: right;\n",
       "    }\n",
       "</style>\n",
       "<table border=\"1\" class=\"dataframe\">\n",
       "  <thead>\n",
       "    <tr style=\"text-align: right;\">\n",
       "      <th></th>\n",
       "      <th>PM2.5</th>\n",
       "      <th>NO</th>\n",
       "      <th>NO2</th>\n",
       "      <th>NOx</th>\n",
       "      <th>CO</th>\n",
       "      <th>SO2</th>\n",
       "      <th>O3</th>\n",
       "      <th>Benzene</th>\n",
       "      <th>Toluene</th>\n",
       "    </tr>\n",
       "  </thead>\n",
       "  <tbody>\n",
       "    <tr>\n",
       "      <th>19931</th>\n",
       "      <td>118.30</td>\n",
       "      <td>32.54</td>\n",
       "      <td>93.10</td>\n",
       "      <td>75.97</td>\n",
       "      <td>1.08</td>\n",
       "      <td>7.03</td>\n",
       "      <td>116.49</td>\n",
       "      <td>5.83</td>\n",
       "      <td>11.01</td>\n",
       "    </tr>\n",
       "    <tr>\n",
       "      <th>19932</th>\n",
       "      <td>111.24</td>\n",
       "      <td>31.43</td>\n",
       "      <td>79.61</td>\n",
       "      <td>67.90</td>\n",
       "      <td>0.92</td>\n",
       "      <td>19.05</td>\n",
       "      <td>119.87</td>\n",
       "      <td>5.19</td>\n",
       "      <td>9.34</td>\n",
       "    </tr>\n",
       "    <tr>\n",
       "      <th>19933</th>\n",
       "      <td>100.63</td>\n",
       "      <td>10.12</td>\n",
       "      <td>58.23</td>\n",
       "      <td>39.29</td>\n",
       "      <td>0.73</td>\n",
       "      <td>12.57</td>\n",
       "      <td>115.35</td>\n",
       "      <td>4.04</td>\n",
       "      <td>8.29</td>\n",
       "    </tr>\n",
       "    <tr>\n",
       "      <th>19934</th>\n",
       "      <td>77.43</td>\n",
       "      <td>3.76</td>\n",
       "      <td>40.68</td>\n",
       "      <td>24.69</td>\n",
       "      <td>0.65</td>\n",
       "      <td>17.41</td>\n",
       "      <td>104.11</td>\n",
       "      <td>3.44</td>\n",
       "      <td>5.75</td>\n",
       "    </tr>\n",
       "    <tr>\n",
       "      <th>19935</th>\n",
       "      <td>70.20</td>\n",
       "      <td>2.04</td>\n",
       "      <td>21.96</td>\n",
       "      <td>13.33</td>\n",
       "      <td>0.47</td>\n",
       "      <td>17.86</td>\n",
       "      <td>99.99</td>\n",
       "      <td>2.53</td>\n",
       "      <td>7.21</td>\n",
       "    </tr>\n",
       "  </tbody>\n",
       "</table>\n",
       "</div>"
      ],
      "text/plain": [
       "        PM2.5     NO    NO2    NOx    CO    SO2      O3  Benzene  Toluene\n",
       "19931  118.30  32.54  93.10  75.97  1.08   7.03  116.49     5.83    11.01\n",
       "19932  111.24  31.43  79.61  67.90  0.92  19.05  119.87     5.19     9.34\n",
       "19933  100.63  10.12  58.23  39.29  0.73  12.57  115.35     4.04     8.29\n",
       "19934   77.43   3.76  40.68  24.69  0.65  17.41  104.11     3.44     5.75\n",
       "19935   70.20   2.04  21.96  13.33  0.47  17.86   99.99     2.53     7.21"
      ]
     },
     "execution_count": 45,
     "metadata": {},
     "output_type": "execute_result"
    }
   ],
   "source": [
    "X_train.tail()"
   ]
  },
  {
   "cell_type": "code",
   "execution_count": 46,
   "id": "6e7142a5",
   "metadata": {},
   "outputs": [
    {
     "data": {
      "text/html": [
       "<div>\n",
       "<style scoped>\n",
       "    .dataframe tbody tr th:only-of-type {\n",
       "        vertical-align: middle;\n",
       "    }\n",
       "\n",
       "    .dataframe tbody tr th {\n",
       "        vertical-align: top;\n",
       "    }\n",
       "\n",
       "    .dataframe thead th {\n",
       "        text-align: right;\n",
       "    }\n",
       "</style>\n",
       "<table border=\"1\" class=\"dataframe\">\n",
       "  <thead>\n",
       "    <tr style=\"text-align: right;\">\n",
       "      <th></th>\n",
       "      <th>PM2.5</th>\n",
       "      <th>NO</th>\n",
       "      <th>NO2</th>\n",
       "      <th>NOx</th>\n",
       "      <th>CO</th>\n",
       "      <th>SO2</th>\n",
       "      <th>O3</th>\n",
       "      <th>Benzene</th>\n",
       "      <th>Toluene</th>\n",
       "    </tr>\n",
       "  </thead>\n",
       "  <tbody>\n",
       "    <tr>\n",
       "      <th>20450</th>\n",
       "      <td>15.02</td>\n",
       "      <td>7.68</td>\n",
       "      <td>25.06</td>\n",
       "      <td>19.54</td>\n",
       "      <td>0.47</td>\n",
       "      <td>8.55</td>\n",
       "      <td>23.30</td>\n",
       "      <td>2.240000</td>\n",
       "      <td>12.070000</td>\n",
       "    </tr>\n",
       "    <tr>\n",
       "      <th>20451</th>\n",
       "      <td>24.38</td>\n",
       "      <td>3.42</td>\n",
       "      <td>26.06</td>\n",
       "      <td>16.53</td>\n",
       "      <td>0.52</td>\n",
       "      <td>12.72</td>\n",
       "      <td>30.14</td>\n",
       "      <td>0.740000</td>\n",
       "      <td>2.210000</td>\n",
       "    </tr>\n",
       "    <tr>\n",
       "      <th>20452</th>\n",
       "      <td>22.91</td>\n",
       "      <td>3.45</td>\n",
       "      <td>29.53</td>\n",
       "      <td>18.33</td>\n",
       "      <td>0.48</td>\n",
       "      <td>8.42</td>\n",
       "      <td>30.96</td>\n",
       "      <td>0.010000</td>\n",
       "      <td>0.010000</td>\n",
       "    </tr>\n",
       "    <tr>\n",
       "      <th>20453</th>\n",
       "      <td>16.64</td>\n",
       "      <td>4.05</td>\n",
       "      <td>29.26</td>\n",
       "      <td>18.80</td>\n",
       "      <td>0.52</td>\n",
       "      <td>9.84</td>\n",
       "      <td>28.30</td>\n",
       "      <td>0.000000</td>\n",
       "      <td>0.000000</td>\n",
       "    </tr>\n",
       "    <tr>\n",
       "      <th>20454</th>\n",
       "      <td>15.00</td>\n",
       "      <td>0.40</td>\n",
       "      <td>26.85</td>\n",
       "      <td>14.05</td>\n",
       "      <td>0.59</td>\n",
       "      <td>2.10</td>\n",
       "      <td>17.05</td>\n",
       "      <td>4.499623</td>\n",
       "      <td>9.628628</td>\n",
       "    </tr>\n",
       "  </tbody>\n",
       "</table>\n",
       "</div>"
      ],
      "text/plain": [
       "       PM2.5    NO    NO2    NOx    CO    SO2     O3   Benzene    Toluene\n",
       "20450  15.02  7.68  25.06  19.54  0.47   8.55  23.30  2.240000  12.070000\n",
       "20451  24.38  3.42  26.06  16.53  0.52  12.72  30.14  0.740000   2.210000\n",
       "20452  22.91  3.45  29.53  18.33  0.48   8.42  30.96  0.010000   0.010000\n",
       "20453  16.64  4.05  29.26  18.80  0.52   9.84  28.30  0.000000   0.000000\n",
       "20454  15.00  0.40  26.85  14.05  0.59   2.10  17.05  4.499623   9.628628"
      ]
     },
     "execution_count": 46,
     "metadata": {},
     "output_type": "execute_result"
    }
   ],
   "source": [
    "X_test.tail()"
   ]
  },
  {
   "cell_type": "code",
   "execution_count": 47,
   "id": "d0c4679d",
   "metadata": {},
   "outputs": [],
   "source": [
    "y_train=dataset['AQI'][dataset['Date'].dt.year<=2018].values"
   ]
  },
  {
   "cell_type": "code",
   "execution_count": 48,
   "id": "b2f970a1",
   "metadata": {},
   "outputs": [],
   "source": [
    "y_test=dataset['AQI'][dataset['Date'].dt.year>=2019].values"
   ]
  },
  {
   "cell_type": "code",
   "execution_count": 49,
   "id": "2092e1ce",
   "metadata": {},
   "outputs": [],
   "source": [
    "y_train_log=np.log(y_train)"
   ]
  },
  {
   "cell_type": "code",
   "execution_count": 50,
   "id": "bdb231e2",
   "metadata": {},
   "outputs": [],
   "source": [
    "y_test_log=np.log(y_test)"
   ]
  },
  {
   "cell_type": "code",
   "execution_count": 51,
   "id": "f982cd6e",
   "metadata": {},
   "outputs": [],
   "source": [
    "from sklearn.linear_model import Ridge\n",
    "from sklearn.model_selection import GridSearchCV"
   ]
  },
  {
   "cell_type": "code",
   "execution_count": 52,
   "id": "e980568f",
   "metadata": {},
   "outputs": [],
   "source": [
    "ridge=Ridge()\n",
    "parameters={'alpha':[1e-15,1e-10,1e-8,1e-3,1e-2,1,5,10,20,30,35,40]}\n",
    "ridge_regressor=GridSearchCV(ridge,parameters,scoring='neg_mean_squared_error',cv=5)"
   ]
  },
  {
   "cell_type": "code",
   "execution_count": 53,
   "id": "e264c9d5",
   "metadata": {},
   "outputs": [
    {
     "data": {
      "text/plain": [
       "GridSearchCV(cv=5, estimator=Ridge(),\n",
       "             param_grid={'alpha': [1e-15, 1e-10, 1e-08, 0.001, 0.01, 1, 5, 10,\n",
       "                                   20, 30, 35, 40]},\n",
       "             scoring='neg_mean_squared_error')"
      ]
     },
     "execution_count": 53,
     "metadata": {},
     "output_type": "execute_result"
    }
   ],
   "source": [
    "ridge_regressor.fit(X_train,y_train)"
   ]
  },
  {
   "cell_type": "code",
   "execution_count": 54,
   "id": "82bb8765",
   "metadata": {},
   "outputs": [
    {
     "name": "stdout",
     "output_type": "stream",
     "text": [
      "{'alpha': 1e-15}\n",
      "-5855.1958950727\n"
     ]
    }
   ],
   "source": [
    "print(ridge_regressor.best_params_)\n",
    "print(ridge_regressor.best_score_)"
   ]
  },
  {
   "cell_type": "code",
   "execution_count": 55,
   "id": "b3af9a9d",
   "metadata": {},
   "outputs": [],
   "source": [
    "prediction_ridge=ridge_regressor.predict(X_test)"
   ]
  },
  {
   "cell_type": "code",
   "execution_count": null,
   "id": "b9df01c5",
   "metadata": {},
   "outputs": [],
   "source": []
  },
  {
   "cell_type": "code",
   "execution_count": null,
   "id": "574416e5",
   "metadata": {},
   "outputs": [],
   "source": []
  },
  {
   "cell_type": "code",
   "execution_count": null,
   "id": "8b4dbd74",
   "metadata": {},
   "outputs": [],
   "source": []
  },
  {
   "cell_type": "code",
   "execution_count": null,
   "id": "6e6aa6d9",
   "metadata": {},
   "outputs": [],
   "source": []
  },
  {
   "cell_type": "code",
   "execution_count": null,
   "id": "23646eeb",
   "metadata": {},
   "outputs": [],
   "source": []
  },
  {
   "cell_type": "code",
   "execution_count": 56,
   "id": "4060218c",
   "metadata": {},
   "outputs": [
    {
     "name": "stderr",
     "output_type": "stream",
     "text": [
      "c:\\users\\sahib\\lib\\site-packages\\seaborn\\distributions.py:2557: FutureWarning: `distplot` is a deprecated function and will be removed in a future version. Please adapt your code to use either `displot` (a figure-level function with similar flexibility) or `kdeplot` (an axes-level function for kernel density plots).\n",
      "  warnings.warn(msg, FutureWarning)\n",
      "c:\\users\\sahib\\lib\\site-packages\\seaborn\\distributions.py:2557: FutureWarning: `distplot` is a deprecated function and will be removed in a future version. Please adapt your code to use either `displot` (a figure-level function with similar flexibility) or `kdeplot` (an axes-level function for kernel density plots).\n",
      "  warnings.warn(msg, FutureWarning)\n"
     ]
    },
    {
     "data": {
      "image/png": "[encoded data removed]",
      "text/plain": [
       "<Figure size 864x720 with 1 Axes>"
      ]
     },
     "metadata": {
      "needs_background": "light"
     },
     "output_type": "display_data"
    }
   ],
   "source": [
    "import matplotlib.pyplot as plt\n",
    "import seaborn as sns\n",
    "plt.figure(figsize=(12,10))\n",
    "\n",
    "\n",
    "ax1 = sns.distplot(y_test, hist=False, color=\"r\", label=\"Actual Value\")\n",
    "sns.distplot((prediction_ridge), hist=False, color=\"b\", label=\"Fitted Values\" , ax=ax1)\n",
    "\n",
    "\n",
    "plt.title('Actual vs Fitted Values for total score')\n",
    "\n",
    "plt.show()\n",
    "plt.close()"
   ]
  },
  {
   "cell_type": "code",
   "execution_count": 57,
   "id": "8087475e",
   "metadata": {},
   "outputs": [],
   "source": [
    "from sklearn.linear_model import Lasso"
   ]
  },
  {
   "cell_type": "code",
   "execution_count": 58,
   "id": "92753007",
   "metadata": {},
   "outputs": [],
   "source": [
    "lasso=Lasso()\n",
    "lasso_regressor=GridSearchCV(lasso,parameters,scoring='neg_mean_squared_error',cv=5)"
   ]
  },
  {
   "cell_type": "code",
   "execution_count": 59,
   "id": "a34c50ac",
   "metadata": {},
   "outputs": [
    {
     "name": "stderr",
     "output_type": "stream",
     "text": [
      "c:\\users\\sahib\\lib\\site-packages\\sklearn\\linear_model\\_coordinate_descent.py:530: ConvergenceWarning: Objective did not converge. You might want to increase the number of iterations. Duality gap: 12110843.901437862, tolerance: 13298.641690082048\n",
      "  model = cd_fast.enet_coordinate_descent(\n",
      "c:\\users\\sahib\\lib\\site-packages\\sklearn\\linear_model\\_coordinate_descent.py:530: ConvergenceWarning: Objective did not converge. You might want to increase the number of iterations. Duality gap: 23504335.081120387, tolerance: 26664.95465441896\n",
      "  model = cd_fast.enet_coordinate_descent(\n",
      "c:\\users\\sahib\\lib\\site-packages\\sklearn\\linear_model\\_coordinate_descent.py:530: ConvergenceWarning: Objective did not converge. You might want to increase the number of iterations. Duality gap: 20468494.963647593, tolerance: 25275.515019065377\n",
      "  model = cd_fast.enet_coordinate_descent(\n",
      "c:\\users\\sahib\\lib\\site-packages\\sklearn\\linear_model\\_coordinate_descent.py:530: ConvergenceWarning: Objective did not converge. You might want to increase the number of iterations. Duality gap: 23558801.321756434, tolerance: 26773.605686282437\n",
      "  model = cd_fast.enet_coordinate_descent(\n",
      "c:\\users\\sahib\\lib\\site-packages\\sklearn\\linear_model\\_coordinate_descent.py:530: ConvergenceWarning: Objective did not converge. You might want to increase the number of iterations. Duality gap: 22123142.31954484, tolerance: 26021.53961017653\n",
      "  model = cd_fast.enet_coordinate_descent(\n",
      "c:\\users\\sahib\\lib\\site-packages\\sklearn\\linear_model\\_coordinate_descent.py:530: ConvergenceWarning: Objective did not converge. You might want to increase the number of iterations. Duality gap: 25736842.457457907, tolerance: 29628.612460746033\n",
      "  model = cd_fast.enet_coordinate_descent(\n"
     ]
    },
    {
     "data": {
      "text/plain": [
       "GridSearchCV(cv=5, estimator=Lasso(),\n",
       "             param_grid={'alpha': [1e-15, 1e-10, 1e-08, 0.001, 0.01, 1, 5, 10,\n",
       "                                   20, 30, 35, 40]},\n",
       "             scoring='neg_mean_squared_error')"
      ]
     },
     "execution_count": 59,
     "metadata": {},
     "output_type": "execute_result"
    }
   ],
   "source": [
    "lasso_regressor.fit(X_train,y_train)"
   ]
  },
  {
   "cell_type": "code",
   "execution_count": 60,
   "id": "ca34f52f",
   "metadata": {},
   "outputs": [],
   "source": [
    "prediction_lasso=lasso_regressor.predict(X_test)"
   ]
  },
  {
   "cell_type": "code",
   "execution_count": 61,
   "id": "298a2efe",
   "metadata": {},
   "outputs": [
    {
     "data": {
      "text/plain": [
       "array([ 954.29481836,  933.12409042, 1499.11590015, ...,   89.85932701,\n",
       "         83.69909757,   68.42008256])"
      ]
     },
     "execution_count": 61,
     "metadata": {},
     "output_type": "execute_result"
    }
   ],
   "source": [
    "prediction_lasso"
   ]
  },
  {
   "cell_type": "code",
   "execution_count": 62,
   "id": "2c6821da",
   "metadata": {},
   "outputs": [
    {
     "data": {
      "text/plain": [
       "array([1474., 1246., 1719., ...,   68.,   54.,   50.])"
      ]
     },
     "execution_count": 62,
     "metadata": {},
     "output_type": "execute_result"
    }
   ],
   "source": [
    "y_test"
   ]
  },
  {
   "cell_type": "code",
   "execution_count": 63,
   "id": "f38887da",
   "metadata": {},
   "outputs": [
    {
     "name": "stderr",
     "output_type": "stream",
     "text": [
      "c:\\users\\sahib\\lib\\site-packages\\seaborn\\distributions.py:2557: FutureWarning: `distplot` is a deprecated function and will be removed in a future version. Please adapt your code to use either `displot` (a figure-level function with similar flexibility) or `kdeplot` (an axes-level function for kernel density plots).\n",
      "  warnings.warn(msg, FutureWarning)\n",
      "c:\\users\\sahib\\lib\\site-packages\\seaborn\\distributions.py:2557: FutureWarning: `distplot` is a deprecated function and will be removed in a future version. Please adapt your code to use either `displot` (a figure-level function with similar flexibility) or `kdeplot` (an axes-level function for kernel density plots).\n",
      "  warnings.warn(msg, FutureWarning)\n"
     ]
    },
    {
     "data": {
      "image/png": "[encoded data removed]",
      "text/plain": [
       "<Figure size 864x720 with 1 Axes>"
      ]
     },
     "metadata": {
      "needs_background": "light"
     },
     "output_type": "display_data"
    }
   ],
   "source": [
    "plt.figure(figsize=(12,10))\n",
    "\n",
    "\n",
    "ax2 = sns.distplot(y_test, hist=False, color=\"r\", label=\"Actual Value\")\n",
    "sns.distplot((prediction_lasso), hist=False, color=\"b\", label=\"Fitted Values\" , ax=ax2)\n",
    "\n",
    "\n",
    "plt.title('Actual vs Fitted Values for total score')\n",
    "\n",
    "plt.show()\n",
    "plt.close()"
   ]
  },
  {
   "cell_type": "code",
   "execution_count": 64,
   "id": "d59e5b4d",
   "metadata": {},
   "outputs": [],
   "source": [
    "from sklearn.linear_model import LinearRegression"
   ]
  },
  {
   "cell_type": "code",
   "execution_count": 65,
   "id": "d7560909",
   "metadata": {},
   "outputs": [],
   "source": [
    "lr=LinearRegression()"
   ]
  },
  {
   "cell_type": "code",
   "execution_count": 66,
   "id": "8a90a9a7",
   "metadata": {},
   "outputs": [
    {
     "data": {
      "text/plain": [
       "LinearRegression()"
      ]
     },
     "execution_count": 66,
     "metadata": {},
     "output_type": "execute_result"
    }
   ],
   "source": [
    "lr.fit(X_train,y_train)"
   ]
  },
  {
   "cell_type": "code",
   "execution_count": 67,
   "id": "3d1d9540",
   "metadata": {},
   "outputs": [],
   "source": [
    "prediction_multiple_lr=lr.predict(X_test)"
   ]
  },
  {
   "cell_type": "code",
   "execution_count": 68,
   "id": "c6796ef3",
   "metadata": {},
   "outputs": [
    {
     "data": {
      "text/plain": [
       "array([ 954.29481836,  933.12409042, 1499.11590015, ...,   89.85932701,\n",
       "         83.69909757,   68.42008256])"
      ]
     },
     "execution_count": 68,
     "metadata": {},
     "output_type": "execute_result"
    }
   ],
   "source": [
    "prediction_multiple_lr"
   ]
  },
  {
   "cell_type": "code",
   "execution_count": 69,
   "id": "16cd70a0",
   "metadata": {},
   "outputs": [
    {
     "data": {
      "text/plain": [
       "array([ 1.14302725, -0.07447368,  0.22647807,  0.37966231, 10.07121776,\n",
       "        1.0968079 ,  0.38510335,  0.22104575, -0.02128788])"
      ]
     },
     "execution_count": 69,
     "metadata": {},
     "output_type": "execute_result"
    }
   ],
   "source": [
    "lr.coef_"
   ]
  },
  {
   "cell_type": "code",
   "execution_count": 70,
   "id": "7add09ea",
   "metadata": {},
   "outputs": [
    {
     "data": {
      "text/plain": [
       "24.28829510551293"
      ]
     },
     "execution_count": 70,
     "metadata": {},
     "output_type": "execute_result"
    }
   ],
   "source": [
    "lr.intercept_"
   ]
  },
  {
   "cell_type": "code",
   "execution_count": 71,
   "id": "df4d30eb",
   "metadata": {},
   "outputs": [
    {
     "data": {
      "text/plain": [
       "array([1474., 1246., 1719., ...,   68.,   54.,   50.])"
      ]
     },
     "execution_count": 71,
     "metadata": {},
     "output_type": "execute_result"
    }
   ],
   "source": [
    "y_test"
   ]
  },
  {
   "cell_type": "code",
   "execution_count": 72,
   "id": "200e7803",
   "metadata": {},
   "outputs": [
    {
     "name": "stderr",
     "output_type": "stream",
     "text": [
      "c:\\users\\sahib\\lib\\site-packages\\seaborn\\distributions.py:2557: FutureWarning: `distplot` is a deprecated function and will be removed in a future version. Please adapt your code to use either `displot` (a figure-level function with similar flexibility) or `kdeplot` (an axes-level function for kernel density plots).\n",
      "  warnings.warn(msg, FutureWarning)\n",
      "c:\\users\\sahib\\lib\\site-packages\\seaborn\\distributions.py:2557: FutureWarning: `distplot` is a deprecated function and will be removed in a future version. Please adapt your code to use either `displot` (a figure-level function with similar flexibility) or `kdeplot` (an axes-level function for kernel density plots).\n",
      "  warnings.warn(msg, FutureWarning)\n"
     ]
    },
    {
     "data": {
      "image/png": "[encoded data removed]",
      "text/plain": [
       "<Figure size 864x720 with 1 Axes>"
      ]
     },
     "metadata": {
      "needs_background": "light"
     },
     "output_type": "display_data"
    }
   ],
   "source": [
    "plt.figure(figsize=(12,10))\n",
    "\n",
    "\n",
    "ax3 = sns.distplot(y_test, hist=False, color=\"r\", label=\"Actual Value\")\n",
    "sns.distplot(prediction_multiple_lr, hist=False, color=\"b\", label=\"Fitted Values\" , ax=ax3)\n",
    "\n",
    "\n",
    "plt.title('Actual vs Fitted Values for total score')\n",
    "\n",
    "plt.show()\n",
    "plt.close()"
   ]
  },
  {
   "cell_type": "code",
   "execution_count": 73,
   "id": "fb2ef0d4",
   "metadata": {},
   "outputs": [
    {
     "data": {
      "text/plain": [
       "0.8487068773140769"
      ]
     },
     "execution_count": 73,
     "metadata": {},
     "output_type": "execute_result"
    }
   ],
   "source": [
    "lr.score(X_test,y_test)"
   ]
  },
  {
   "cell_type": "code",
   "execution_count": 74,
   "id": "c5e43bae",
   "metadata": {},
   "outputs": [
    {
     "data": {
      "text/html": [
       "<div>\n",
       "<style scoped>\n",
       "    .dataframe tbody tr th:only-of-type {\n",
       "        vertical-align: middle;\n",
       "    }\n",
       "\n",
       "    .dataframe tbody tr th {\n",
       "        vertical-align: top;\n",
       "    }\n",
       "\n",
       "    .dataframe thead th {\n",
       "        text-align: right;\n",
       "    }\n",
       "</style>\n",
       "<table border=\"1\" class=\"dataframe\">\n",
       "  <thead>\n",
       "    <tr style=\"text-align: right;\">\n",
       "      <th></th>\n",
       "      <th>PM2.5</th>\n",
       "      <th>NO</th>\n",
       "      <th>NO2</th>\n",
       "      <th>NOx</th>\n",
       "      <th>CO</th>\n",
       "      <th>SO2</th>\n",
       "      <th>O3</th>\n",
       "      <th>Benzene</th>\n",
       "      <th>Toluene</th>\n",
       "      <th>AQI</th>\n",
       "    </tr>\n",
       "  </thead>\n",
       "  <tbody>\n",
       "    <tr>\n",
       "      <th>count</th>\n",
       "      <td>20455.000000</td>\n",
       "      <td>20455.000000</td>\n",
       "      <td>20455.000000</td>\n",
       "      <td>20455.000000</td>\n",
       "      <td>20455.000000</td>\n",
       "      <td>20455.000000</td>\n",
       "      <td>20455.000000</td>\n",
       "      <td>20455.000000</td>\n",
       "      <td>20455.00000</td>\n",
       "      <td>20455.000000</td>\n",
       "    </tr>\n",
       "    <tr>\n",
       "      <th>mean</th>\n",
       "      <td>71.670416</td>\n",
       "      <td>17.876106</td>\n",
       "      <td>31.709225</td>\n",
       "      <td>32.508350</td>\n",
       "      <td>2.584885</td>\n",
       "      <td>14.448787</td>\n",
       "      <td>35.789977</td>\n",
       "      <td>3.368798</td>\n",
       "      <td>9.18458</td>\n",
       "      <td>176.403129</td>\n",
       "    </tr>\n",
       "    <tr>\n",
       "      <th>std</th>\n",
       "      <td>66.098781</td>\n",
       "      <td>22.423594</td>\n",
       "      <td>25.494524</td>\n",
       "      <td>29.812782</td>\n",
       "      <td>7.705762</td>\n",
       "      <td>17.761040</td>\n",
       "      <td>21.387959</td>\n",
       "      <td>15.491955</td>\n",
       "      <td>20.21806</td>\n",
       "      <td>149.473567</td>\n",
       "    </tr>\n",
       "    <tr>\n",
       "      <th>min</th>\n",
       "      <td>0.040000</td>\n",
       "      <td>0.060000</td>\n",
       "      <td>0.010000</td>\n",
       "      <td>0.000000</td>\n",
       "      <td>0.000000</td>\n",
       "      <td>0.010000</td>\n",
       "      <td>0.010000</td>\n",
       "      <td>0.000000</td>\n",
       "      <td>0.00000</td>\n",
       "      <td>13.000000</td>\n",
       "    </tr>\n",
       "    <tr>\n",
       "      <th>25%</th>\n",
       "      <td>31.830000</td>\n",
       "      <td>5.940000</td>\n",
       "      <td>14.360000</td>\n",
       "      <td>14.690000</td>\n",
       "      <td>0.600000</td>\n",
       "      <td>5.770000</td>\n",
       "      <td>20.775000</td>\n",
       "      <td>0.280000</td>\n",
       "      <td>1.05000</td>\n",
       "      <td>84.000000</td>\n",
       "    </tr>\n",
       "    <tr>\n",
       "      <th>50%</th>\n",
       "      <td>51.390000</td>\n",
       "      <td>10.220000</td>\n",
       "      <td>25.110000</td>\n",
       "      <td>24.520000</td>\n",
       "      <td>0.930000</td>\n",
       "      <td>9.020000</td>\n",
       "      <td>32.356393</td>\n",
       "      <td>1.480000</td>\n",
       "      <td>3.66000</td>\n",
       "      <td>123.000000</td>\n",
       "    </tr>\n",
       "    <tr>\n",
       "      <th>75%</th>\n",
       "      <td>84.480000</td>\n",
       "      <td>19.780000</td>\n",
       "      <td>41.305000</td>\n",
       "      <td>39.150000</td>\n",
       "      <td>1.480000</td>\n",
       "      <td>14.935000</td>\n",
       "      <td>46.440000</td>\n",
       "      <td>3.400000</td>\n",
       "      <td>9.49000</td>\n",
       "      <td>228.000000</td>\n",
       "    </tr>\n",
       "    <tr>\n",
       "      <th>max</th>\n",
       "      <td>914.940000</td>\n",
       "      <td>287.140000</td>\n",
       "      <td>362.210000</td>\n",
       "      <td>293.100000</td>\n",
       "      <td>175.810000</td>\n",
       "      <td>186.080000</td>\n",
       "      <td>257.730000</td>\n",
       "      <td>455.030000</td>\n",
       "      <td>454.85000</td>\n",
       "      <td>2049.000000</td>\n",
       "    </tr>\n",
       "  </tbody>\n",
       "</table>\n",
       "</div>"
      ],
      "text/plain": [
       "              PM2.5            NO           NO2           NOx            CO  \\\n",
       "count  20455.000000  20455.000000  20455.000000  20455.000000  20455.000000   \n",
       "mean      71.670416     17.876106     31.709225     32.508350      2.584885   \n",
       "std       66.098781     22.423594     25.494524     29.812782      7.705762   \n",
       "min        0.040000      0.060000      0.010000      0.000000      0.000000   \n",
       "25%       31.830000      5.940000     14.360000     14.690000      0.600000   \n",
       "50%       51.390000     10.220000     25.110000     24.520000      0.930000   \n",
       "75%       84.480000     19.780000     41.305000     39.150000      1.480000   \n",
       "max      914.940000    287.140000    362.210000    293.100000    175.810000   \n",
       "\n",
       "                SO2            O3       Benzene      Toluene           AQI  \n",
       "count  20455.000000  20455.000000  20455.000000  20455.00000  20455.000000  \n",
       "mean      14.448787     35.789977      3.368798      9.18458    176.403129  \n",
       "std       17.761040     21.387959     15.491955     20.21806    149.473567  \n",
       "min        0.010000      0.010000      0.000000      0.00000     13.000000  \n",
       "25%        5.770000     20.775000      0.280000      1.05000     84.000000  \n",
       "50%        9.020000     32.356393      1.480000      3.66000    123.000000  \n",
       "75%       14.935000     46.440000      3.400000      9.49000    228.000000  \n",
       "max      186.080000    257.730000    455.030000    454.85000   2049.000000  "
      ]
     },
     "execution_count": 74,
     "metadata": {},
     "output_type": "execute_result"
    }
   ],
   "source": [
    "dataset.describe()"
   ]
  },
  {
   "cell_type": "code",
   "execution_count": 75,
   "id": "ef5718b7",
   "metadata": {},
   "outputs": [
    {
     "data": {
      "text/html": [
       "<div>\n",
       "<style scoped>\n",
       "    .dataframe tbody tr th:only-of-type {\n",
       "        vertical-align: middle;\n",
       "    }\n",
       "\n",
       "    .dataframe tbody tr th {\n",
       "        vertical-align: top;\n",
       "    }\n",
       "\n",
       "    .dataframe thead th {\n",
       "        text-align: right;\n",
       "    }\n",
       "</style>\n",
       "<table border=\"1\" class=\"dataframe\">\n",
       "  <thead>\n",
       "    <tr style=\"text-align: right;\">\n",
       "      <th></th>\n",
       "      <th>City</th>\n",
       "      <th>Date</th>\n",
       "      <th>PM2.5</th>\n",
       "      <th>NO</th>\n",
       "      <th>NO2</th>\n",
       "      <th>NOx</th>\n",
       "      <th>CO</th>\n",
       "      <th>SO2</th>\n",
       "      <th>O3</th>\n",
       "      <th>Benzene</th>\n",
       "      <th>Toluene</th>\n",
       "      <th>AQI</th>\n",
       "      <th>AQI_Bucket</th>\n",
       "    </tr>\n",
       "  </thead>\n",
       "  <tbody>\n",
       "    <tr>\n",
       "      <th>0</th>\n",
       "      <td>Ahmedabad</td>\n",
       "      <td>2015-01-29</td>\n",
       "      <td>83.13</td>\n",
       "      <td>6.93</td>\n",
       "      <td>28.71</td>\n",
       "      <td>33.72</td>\n",
       "      <td>6.93</td>\n",
       "      <td>49.52</td>\n",
       "      <td>59.76</td>\n",
       "      <td>0.02</td>\n",
       "      <td>0.00</td>\n",
       "      <td>209.0</td>\n",
       "      <td>Poor</td>\n",
       "    </tr>\n",
       "    <tr>\n",
       "      <th>1</th>\n",
       "      <td>Ahmedabad</td>\n",
       "      <td>2015-01-30</td>\n",
       "      <td>79.84</td>\n",
       "      <td>13.85</td>\n",
       "      <td>28.68</td>\n",
       "      <td>41.08</td>\n",
       "      <td>13.85</td>\n",
       "      <td>48.49</td>\n",
       "      <td>97.07</td>\n",
       "      <td>0.04</td>\n",
       "      <td>0.00</td>\n",
       "      <td>328.0</td>\n",
       "      <td>Very Poor</td>\n",
       "    </tr>\n",
       "    <tr>\n",
       "      <th>2</th>\n",
       "      <td>Ahmedabad</td>\n",
       "      <td>2015-01-31</td>\n",
       "      <td>94.52</td>\n",
       "      <td>24.39</td>\n",
       "      <td>32.66</td>\n",
       "      <td>52.61</td>\n",
       "      <td>24.39</td>\n",
       "      <td>67.39</td>\n",
       "      <td>111.33</td>\n",
       "      <td>0.24</td>\n",
       "      <td>0.01</td>\n",
       "      <td>514.0</td>\n",
       "      <td>Severe</td>\n",
       "    </tr>\n",
       "    <tr>\n",
       "      <th>3</th>\n",
       "      <td>Ahmedabad</td>\n",
       "      <td>2015-02-01</td>\n",
       "      <td>135.99</td>\n",
       "      <td>43.48</td>\n",
       "      <td>42.08</td>\n",
       "      <td>84.57</td>\n",
       "      <td>43.48</td>\n",
       "      <td>75.23</td>\n",
       "      <td>102.70</td>\n",
       "      <td>0.40</td>\n",
       "      <td>0.04</td>\n",
       "      <td>782.0</td>\n",
       "      <td>Severe</td>\n",
       "    </tr>\n",
       "    <tr>\n",
       "      <th>4</th>\n",
       "      <td>Ahmedabad</td>\n",
       "      <td>2015-02-02</td>\n",
       "      <td>178.33</td>\n",
       "      <td>54.56</td>\n",
       "      <td>35.31</td>\n",
       "      <td>72.80</td>\n",
       "      <td>54.56</td>\n",
       "      <td>55.04</td>\n",
       "      <td>107.38</td>\n",
       "      <td>0.46</td>\n",
       "      <td>0.06</td>\n",
       "      <td>914.0</td>\n",
       "      <td>Severe</td>\n",
       "    </tr>\n",
       "  </tbody>\n",
       "</table>\n",
       "</div>"
      ],
      "text/plain": [
       "        City       Date   PM2.5     NO    NO2    NOx     CO    SO2      O3  \\\n",
       "0  Ahmedabad 2015-01-29   83.13   6.93  28.71  33.72   6.93  49.52   59.76   \n",
       "1  Ahmedabad 2015-01-30   79.84  13.85  28.68  41.08  13.85  48.49   97.07   \n",
       "2  Ahmedabad 2015-01-31   94.52  24.39  32.66  52.61  24.39  67.39  111.33   \n",
       "3  Ahmedabad 2015-02-01  135.99  43.48  42.08  84.57  43.48  75.23  102.70   \n",
       "4  Ahmedabad 2015-02-02  178.33  54.56  35.31  72.80  54.56  55.04  107.38   \n",
       "\n",
       "   Benzene  Toluene    AQI AQI_Bucket  \n",
       "0     0.02     0.00  209.0       Poor  \n",
       "1     0.04     0.00  328.0  Very Poor  \n",
       "2     0.24     0.01  514.0     Severe  \n",
       "3     0.40     0.04  782.0     Severe  \n",
       "4     0.46     0.06  914.0     Severe  "
      ]
     },
     "execution_count": 75,
     "metadata": {},
     "output_type": "execute_result"
    }
   ],
   "source": [
    "dataset1.head()"
   ]
  },
  {
   "cell_type": "code",
   "execution_count": 76,
   "id": "950611af",
   "metadata": {},
   "outputs": [
    {
     "data": {
      "text/plain": [
       "<AxesSubplot:xlabel='City', ylabel='AQI'>"
      ]
     },
     "execution_count": 76,
     "metadata": {},
     "output_type": "execute_result"
    },
    {
     "data": {
      "image/png": "[encoded data removed]",
      "text/plain": [
       "<Figure size 1440x720 with 1 Axes>"
      ]
     },
     "metadata": {
      "needs_background": "light"
     },
     "output_type": "display_data"
    }
   ],
   "source": [
    "plt.figure(figsize=(20,10))\n",
    "sns.boxplot(y=dataset1['AQI'],x=dataset1['City'])"
   ]
  },
  {
   "cell_type": "code",
   "execution_count": 77,
   "id": "994ca6b2",
   "metadata": {},
   "outputs": [],
   "source": [
    "dataset1=dataset1[dataset1['AQI']<500]"
   ]
  },
  {
   "cell_type": "code",
   "execution_count": 78,
   "id": "9d5a3e9d",
   "metadata": {},
   "outputs": [
    {
     "data": {
      "text/plain": [
       "<AxesSubplot:xlabel='City', ylabel='AQI'>"
      ]
     },
     "execution_count": 78,
     "metadata": {},
     "output_type": "execute_result"
    },
    {
     "data": {
      "image/png": "[encoded data removed]",
      "text/plain": [
       "<Figure size 1440x720 with 1 Axes>"
      ]
     },
     "metadata": {
      "needs_background": "light"
     },
     "output_type": "display_data"
    }
   ],
   "source": [
    "plt.figure(figsize=(20,10))\n",
    "sns.boxplot(y=dataset1['AQI'],x=dataset1['City'])"
   ]
  },
  {
   "cell_type": "code",
   "execution_count": null,
   "id": "769f3f23",
   "metadata": {},
   "outputs": [],
   "source": []
  }
 ],
 "metadata": {
  "kernelspec": {
   "display_name": "Python 3 (ipykernel)",
   "language": "python",
   "name": "python3"
  },
  "language_info": {
   "codemirror_mode": {
    "name": "ipython",
    "version": 3
   },
   "file_extension": ".py",
   "mimetype": "text/x-python",
   "name": "python",
   "nbconvert_exporter": "python",
   "pygments_lexer": "ipython3",
   "version": "3.9.6"
  }
 },
 "nbformat": 4,
 "nbformat_minor": 5
}
